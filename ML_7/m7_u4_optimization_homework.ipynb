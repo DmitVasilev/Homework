{
 "cells": [
  {
   "attachments": {},
   "cell_type": "markdown",
   "metadata": {},
   "source": [
    "# <center> ML-7. Прогнозирование биологического ответа (HW-3) </center>"
   ]
  },
  {
   "attachments": {},
   "cell_type": "markdown",
   "metadata": {},
   "source": [
    "### Условия задания\n",
    "Необходимо обучить две модели: логистическую регрессию и случайный лес. Далее нужно сделать подбор гиперпараметров с помощью базовых и продвинутых методов оптимизации. Важно использовать все четыре метода (GridSeachCV, RandomizedSearchCV, Hyperopt, Optuna) хотя бы по разу, максимальное количество итераций не должно превышать 50.            \n",
    "Предварительная обработка не требуется, данные уже закодированы и нормализованы.           \n",
    "В качестве метрики будем использовать F1-score."
   ]
  },
  {
   "cell_type": "code",
   "execution_count": 64,
   "metadata": {},
   "outputs": [],
   "source": [
    "# Импортируем библиотеки\n",
    "import numpy as np #для матричных вычислений\n",
    "import pandas as pd #для анализа и предобработки данных\n",
    "from sklearn import linear_model #линейные моделиё\n",
    "from sklearn import ensemble #ансамбли\n",
    "from sklearn import metrics #метрики\n",
    "from sklearn.model_selection import train_test_split #сплитование выборки\n",
    "from sklearn import model_selection\n",
    "from sklearn.model_selection import GridSearchCV\n",
    "from sklearn.model_selection import RandomizedSearchCV\n",
    "from sklearn.model_selection import cross_val_score\n",
    "import hyperopt\n",
    "from hyperopt import hp, fmin, tpe, Trials\n",
    "import optuna"
   ]
  },
  {
   "cell_type": "code",
   "execution_count": 65,
   "metadata": {},
   "outputs": [
    {
     "data": {
      "text/html": [
       "<div>\n",
       "<style scoped>\n",
       "    .dataframe tbody tr th:only-of-type {\n",
       "        vertical-align: middle;\n",
       "    }\n",
       "\n",
       "    .dataframe tbody tr th {\n",
       "        vertical-align: top;\n",
       "    }\n",
       "\n",
       "    .dataframe thead th {\n",
       "        text-align: right;\n",
       "    }\n",
       "</style>\n",
       "<table border=\"1\" class=\"dataframe\">\n",
       "  <thead>\n",
       "    <tr style=\"text-align: right;\">\n",
       "      <th></th>\n",
       "      <th>Activity</th>\n",
       "      <th>D1</th>\n",
       "      <th>D2</th>\n",
       "      <th>D3</th>\n",
       "      <th>D4</th>\n",
       "      <th>D5</th>\n",
       "      <th>D6</th>\n",
       "      <th>D7</th>\n",
       "      <th>D8</th>\n",
       "      <th>D9</th>\n",
       "      <th>...</th>\n",
       "      <th>D1767</th>\n",
       "      <th>D1768</th>\n",
       "      <th>D1769</th>\n",
       "      <th>D1770</th>\n",
       "      <th>D1771</th>\n",
       "      <th>D1772</th>\n",
       "      <th>D1773</th>\n",
       "      <th>D1774</th>\n",
       "      <th>D1775</th>\n",
       "      <th>D1776</th>\n",
       "    </tr>\n",
       "  </thead>\n",
       "  <tbody>\n",
       "    <tr>\n",
       "      <th>0</th>\n",
       "      <td>1</td>\n",
       "      <td>0.000000</td>\n",
       "      <td>0.497009</td>\n",
       "      <td>0.10</td>\n",
       "      <td>0.0</td>\n",
       "      <td>0.132956</td>\n",
       "      <td>0.678031</td>\n",
       "      <td>0.273166</td>\n",
       "      <td>0.585445</td>\n",
       "      <td>0.743663</td>\n",
       "      <td>...</td>\n",
       "      <td>0</td>\n",
       "      <td>0</td>\n",
       "      <td>0</td>\n",
       "      <td>0</td>\n",
       "      <td>0</td>\n",
       "      <td>0</td>\n",
       "      <td>0</td>\n",
       "      <td>0</td>\n",
       "      <td>0</td>\n",
       "      <td>0</td>\n",
       "    </tr>\n",
       "    <tr>\n",
       "      <th>1</th>\n",
       "      <td>1</td>\n",
       "      <td>0.366667</td>\n",
       "      <td>0.606291</td>\n",
       "      <td>0.05</td>\n",
       "      <td>0.0</td>\n",
       "      <td>0.111209</td>\n",
       "      <td>0.803455</td>\n",
       "      <td>0.106105</td>\n",
       "      <td>0.411754</td>\n",
       "      <td>0.836582</td>\n",
       "      <td>...</td>\n",
       "      <td>1</td>\n",
       "      <td>1</td>\n",
       "      <td>1</td>\n",
       "      <td>1</td>\n",
       "      <td>0</td>\n",
       "      <td>1</td>\n",
       "      <td>0</td>\n",
       "      <td>0</td>\n",
       "      <td>1</td>\n",
       "      <td>0</td>\n",
       "    </tr>\n",
       "    <tr>\n",
       "      <th>2</th>\n",
       "      <td>1</td>\n",
       "      <td>0.033300</td>\n",
       "      <td>0.480124</td>\n",
       "      <td>0.00</td>\n",
       "      <td>0.0</td>\n",
       "      <td>0.209791</td>\n",
       "      <td>0.610350</td>\n",
       "      <td>0.356453</td>\n",
       "      <td>0.517720</td>\n",
       "      <td>0.679051</td>\n",
       "      <td>...</td>\n",
       "      <td>0</td>\n",
       "      <td>0</td>\n",
       "      <td>0</td>\n",
       "      <td>0</td>\n",
       "      <td>0</td>\n",
       "      <td>0</td>\n",
       "      <td>0</td>\n",
       "      <td>0</td>\n",
       "      <td>0</td>\n",
       "      <td>0</td>\n",
       "    </tr>\n",
       "    <tr>\n",
       "      <th>3</th>\n",
       "      <td>1</td>\n",
       "      <td>0.000000</td>\n",
       "      <td>0.538825</td>\n",
       "      <td>0.00</td>\n",
       "      <td>0.5</td>\n",
       "      <td>0.196344</td>\n",
       "      <td>0.724230</td>\n",
       "      <td>0.235606</td>\n",
       "      <td>0.288764</td>\n",
       "      <td>0.805110</td>\n",
       "      <td>...</td>\n",
       "      <td>0</td>\n",
       "      <td>0</td>\n",
       "      <td>0</td>\n",
       "      <td>0</td>\n",
       "      <td>0</td>\n",
       "      <td>0</td>\n",
       "      <td>0</td>\n",
       "      <td>0</td>\n",
       "      <td>0</td>\n",
       "      <td>0</td>\n",
       "    </tr>\n",
       "    <tr>\n",
       "      <th>4</th>\n",
       "      <td>0</td>\n",
       "      <td>0.100000</td>\n",
       "      <td>0.517794</td>\n",
       "      <td>0.00</td>\n",
       "      <td>0.0</td>\n",
       "      <td>0.494734</td>\n",
       "      <td>0.781422</td>\n",
       "      <td>0.154361</td>\n",
       "      <td>0.303809</td>\n",
       "      <td>0.812646</td>\n",
       "      <td>...</td>\n",
       "      <td>0</td>\n",
       "      <td>0</td>\n",
       "      <td>0</td>\n",
       "      <td>0</td>\n",
       "      <td>0</td>\n",
       "      <td>0</td>\n",
       "      <td>0</td>\n",
       "      <td>0</td>\n",
       "      <td>0</td>\n",
       "      <td>0</td>\n",
       "    </tr>\n",
       "  </tbody>\n",
       "</table>\n",
       "<p>5 rows × 1777 columns</p>\n",
       "</div>"
      ],
      "text/plain": [
       "   Activity        D1        D2    D3   D4        D5        D6        D7   \n",
       "0         1  0.000000  0.497009  0.10  0.0  0.132956  0.678031  0.273166  \\\n",
       "1         1  0.366667  0.606291  0.05  0.0  0.111209  0.803455  0.106105   \n",
       "2         1  0.033300  0.480124  0.00  0.0  0.209791  0.610350  0.356453   \n",
       "3         1  0.000000  0.538825  0.00  0.5  0.196344  0.724230  0.235606   \n",
       "4         0  0.100000  0.517794  0.00  0.0  0.494734  0.781422  0.154361   \n",
       "\n",
       "         D8        D9  ...  D1767  D1768  D1769  D1770  D1771  D1772  D1773   \n",
       "0  0.585445  0.743663  ...      0      0      0      0      0      0      0  \\\n",
       "1  0.411754  0.836582  ...      1      1      1      1      0      1      0   \n",
       "2  0.517720  0.679051  ...      0      0      0      0      0      0      0   \n",
       "3  0.288764  0.805110  ...      0      0      0      0      0      0      0   \n",
       "4  0.303809  0.812646  ...      0      0      0      0      0      0      0   \n",
       "\n",
       "   D1774  D1775  D1776  \n",
       "0      0      0      0  \n",
       "1      0      1      0  \n",
       "2      0      0      0  \n",
       "3      0      0      0  \n",
       "4      0      0      0  \n",
       "\n",
       "[5 rows x 1777 columns]"
      ]
     },
     "execution_count": 65,
     "metadata": {},
     "output_type": "execute_result"
    }
   ],
   "source": [
    "# Загружаем данные\n",
    "url = 'https://lms-cdn.skillfactory.ru/assets/courseware/v1/9f2add5bca59f8c4df927432d605fff3/asset\\\n",
    "-v1:SkillFactory+DSPR-2.0+14JULY2021+type@asset+block/_train_sem09__1_.zip'\n",
    "\n",
    "data = pd.read_csv(url, compression='zip')\n",
    "data.head()"
   ]
  },
  {
   "cell_type": "code",
   "execution_count": 66,
   "metadata": {},
   "outputs": [],
   "source": [
    "# Выделяем матрицу наблюдений и столбец с правильными ответами\n",
    "X = data.drop(['Activity'], axis=1)\n",
    "y = data['Activity']\n",
    "\n",
    "# Делим данные на обучающую и тестовую выборки\n",
    "X_train, X_test, y_train, y_test = train_test_split(X, y, test_size=20, random_state=42)"
   ]
  },
  {
   "cell_type": "code",
   "execution_count": 67,
   "metadata": {},
   "outputs": [
    {
     "name": "stdout",
     "output_type": "stream",
     "text": [
      "Значение метрики f1-score для модели логистической регрессии: 0.75\n"
     ]
    }
   ],
   "source": [
    "# Создаем и обучаем модель логистической регрессии\n",
    "model_lr1 = linear_model.LogisticRegression(max_iter=1000, random_state=42)\n",
    "model_lr1.fit(X_train,y_train)\n",
    "\n",
    "# Делаем предсказание и считаем метрику\n",
    "y_test_pred = model_lr1.predict(X_test)\n",
    "print(f'Значение метрики f1-score для модели логистической регрессии: {round(metrics.f1_score(y_test, y_test_pred),2)}')"
   ]
  },
  {
   "cell_type": "code",
   "execution_count": 68,
   "metadata": {},
   "outputs": [
    {
     "name": "stdout",
     "output_type": "stream",
     "text": [
      "Значение метрики f1-score для модели случайного леса: 0.82\n"
     ]
    }
   ],
   "source": [
    "# Создаем и обучаем модель случайного леса\n",
    "model_rf1 = ensemble.RandomForestClassifier(random_state=42,)\n",
    "model_rf1.fit(X_train,y_train)\n",
    "\n",
    "# Делаем предсказание и считаем метрику\n",
    "y_test_pred = model_rf1.predict(X_test)\n",
    "print(f'Значение метрики f1-score для модели случайного леса: {round(metrics.f1_score(y_test, y_test_pred),2)}')"
   ]
  },
  {
   "attachments": {},
   "cell_type": "markdown",
   "metadata": {},
   "source": [
    "# <center> GridSearchCV </center>"
   ]
  },
  {
   "attachments": {},
   "cell_type": "markdown",
   "metadata": {},
   "source": [
    "### Логистическая регрессия"
   ]
  },
  {
   "cell_type": "code",
   "execution_count": 69,
   "metadata": {},
   "outputs": [
    {
     "name": "stdout",
     "output_type": "stream",
     "text": [
      "CPU times: user 1min 50s, sys: 153 ms, total: 1min 50s\n",
      "Wall time: 8min 38s\n"
     ]
    },
    {
     "data": {
      "text/html": [
       "<style>#sk-container-id-5 {color: black;background-color: white;}#sk-container-id-5 pre{padding: 0;}#sk-container-id-5 div.sk-toggleable {background-color: white;}#sk-container-id-5 label.sk-toggleable__label {cursor: pointer;display: block;width: 100%;margin-bottom: 0;padding: 0.3em;box-sizing: border-box;text-align: center;}#sk-container-id-5 label.sk-toggleable__label-arrow:before {content: \"▸\";float: left;margin-right: 0.25em;color: #696969;}#sk-container-id-5 label.sk-toggleable__label-arrow:hover:before {color: black;}#sk-container-id-5 div.sk-estimator:hover label.sk-toggleable__label-arrow:before {color: black;}#sk-container-id-5 div.sk-toggleable__content {max-height: 0;max-width: 0;overflow: hidden;text-align: left;background-color: #f0f8ff;}#sk-container-id-5 div.sk-toggleable__content pre {margin: 0.2em;color: black;border-radius: 0.25em;background-color: #f0f8ff;}#sk-container-id-5 input.sk-toggleable__control:checked~div.sk-toggleable__content {max-height: 200px;max-width: 100%;overflow: auto;}#sk-container-id-5 input.sk-toggleable__control:checked~label.sk-toggleable__label-arrow:before {content: \"▾\";}#sk-container-id-5 div.sk-estimator input.sk-toggleable__control:checked~label.sk-toggleable__label {background-color: #d4ebff;}#sk-container-id-5 div.sk-label input.sk-toggleable__control:checked~label.sk-toggleable__label {background-color: #d4ebff;}#sk-container-id-5 input.sk-hidden--visually {border: 0;clip: rect(1px 1px 1px 1px);clip: rect(1px, 1px, 1px, 1px);height: 1px;margin: -1px;overflow: hidden;padding: 0;position: absolute;width: 1px;}#sk-container-id-5 div.sk-estimator {font-family: monospace;background-color: #f0f8ff;border: 1px dotted black;border-radius: 0.25em;box-sizing: border-box;margin-bottom: 0.5em;}#sk-container-id-5 div.sk-estimator:hover {background-color: #d4ebff;}#sk-container-id-5 div.sk-parallel-item::after {content: \"\";width: 100%;border-bottom: 1px solid gray;flex-grow: 1;}#sk-container-id-5 div.sk-label:hover label.sk-toggleable__label {background-color: #d4ebff;}#sk-container-id-5 div.sk-serial::before {content: \"\";position: absolute;border-left: 1px solid gray;box-sizing: border-box;top: 0;bottom: 0;left: 50%;z-index: 0;}#sk-container-id-5 div.sk-serial {display: flex;flex-direction: column;align-items: center;background-color: white;padding-right: 0.2em;padding-left: 0.2em;position: relative;}#sk-container-id-5 div.sk-item {position: relative;z-index: 1;}#sk-container-id-5 div.sk-parallel {display: flex;align-items: stretch;justify-content: center;background-color: white;position: relative;}#sk-container-id-5 div.sk-item::before, #sk-container-id-5 div.sk-parallel-item::before {content: \"\";position: absolute;border-left: 1px solid gray;box-sizing: border-box;top: 0;bottom: 0;left: 50%;z-index: -1;}#sk-container-id-5 div.sk-parallel-item {display: flex;flex-direction: column;z-index: 1;position: relative;background-color: white;}#sk-container-id-5 div.sk-parallel-item:first-child::after {align-self: flex-end;width: 50%;}#sk-container-id-5 div.sk-parallel-item:last-child::after {align-self: flex-start;width: 50%;}#sk-container-id-5 div.sk-parallel-item:only-child::after {width: 0;}#sk-container-id-5 div.sk-dashed-wrapped {border: 1px dashed gray;margin: 0 0.4em 0.5em 0.4em;box-sizing: border-box;padding-bottom: 0.4em;background-color: white;}#sk-container-id-5 div.sk-label label {font-family: monospace;font-weight: bold;display: inline-block;line-height: 1.2em;}#sk-container-id-5 div.sk-label-container {text-align: center;}#sk-container-id-5 div.sk-container {/* jupyter's `normalize.less` sets `[hidden] { display: none; }` but bootstrap.min.css set `[hidden] { display: none !important; }` so we also need the `!important` here to be able to override the default hidden behavior on the sphinx rendered scikit-learn.org. See: https://github.com/scikit-learn/scikit-learn/issues/21755 */display: inline-block !important;position: relative;}#sk-container-id-5 div.sk-text-repr-fallback {display: none;}</style><div id=\"sk-container-id-5\" class=\"sk-top-container\"><div class=\"sk-text-repr-fallback\"><pre>GridSearchCV(cv=5, estimator=LogisticRegression(max_iter=5000, random_state=42),\n",
       "             n_jobs=-1,\n",
       "             param_grid=[{&#x27;C&#x27;: [0.01, 0.3, 0.5, 0.7, 0.9],\n",
       "                          &#x27;penalty&#x27;: [&#x27;l1&#x27;, &#x27;l2&#x27;],\n",
       "                          &#x27;solver&#x27;: [&#x27;liblinear&#x27;, &#x27;saga&#x27;]}],\n",
       "             scoring=&#x27;f1&#x27;)</pre><b>In a Jupyter environment, please rerun this cell to show the HTML representation or trust the notebook. <br />On GitHub, the HTML representation is unable to render, please try loading this page with nbviewer.org.</b></div><div class=\"sk-container\" hidden><div class=\"sk-item sk-dashed-wrapped\"><div class=\"sk-label-container\"><div class=\"sk-label sk-toggleable\"><input class=\"sk-toggleable__control sk-hidden--visually\" id=\"sk-estimator-id-13\" type=\"checkbox\" ><label for=\"sk-estimator-id-13\" class=\"sk-toggleable__label sk-toggleable__label-arrow\">GridSearchCV</label><div class=\"sk-toggleable__content\"><pre>GridSearchCV(cv=5, estimator=LogisticRegression(max_iter=5000, random_state=42),\n",
       "             n_jobs=-1,\n",
       "             param_grid=[{&#x27;C&#x27;: [0.01, 0.3, 0.5, 0.7, 0.9],\n",
       "                          &#x27;penalty&#x27;: [&#x27;l1&#x27;, &#x27;l2&#x27;],\n",
       "                          &#x27;solver&#x27;: [&#x27;liblinear&#x27;, &#x27;saga&#x27;]}],\n",
       "             scoring=&#x27;f1&#x27;)</pre></div></div></div><div class=\"sk-parallel\"><div class=\"sk-parallel-item\"><div class=\"sk-item\"><div class=\"sk-label-container\"><div class=\"sk-label sk-toggleable\"><input class=\"sk-toggleable__control sk-hidden--visually\" id=\"sk-estimator-id-14\" type=\"checkbox\" ><label for=\"sk-estimator-id-14\" class=\"sk-toggleable__label sk-toggleable__label-arrow\">estimator: LogisticRegression</label><div class=\"sk-toggleable__content\"><pre>LogisticRegression(max_iter=5000, random_state=42)</pre></div></div></div><div class=\"sk-serial\"><div class=\"sk-item\"><div class=\"sk-estimator sk-toggleable\"><input class=\"sk-toggleable__control sk-hidden--visually\" id=\"sk-estimator-id-15\" type=\"checkbox\" ><label for=\"sk-estimator-id-15\" class=\"sk-toggleable__label sk-toggleable__label-arrow\">LogisticRegression</label><div class=\"sk-toggleable__content\"><pre>LogisticRegression(max_iter=5000, random_state=42)</pre></div></div></div></div></div></div></div></div></div></div>"
      ],
      "text/plain": [
       "GridSearchCV(cv=5, estimator=LogisticRegression(max_iter=5000, random_state=42),\n",
       "             n_jobs=-1,\n",
       "             param_grid=[{'C': [0.01, 0.3, 0.5, 0.7, 0.9],\n",
       "                          'penalty': ['l1', 'l2'],\n",
       "                          'solver': ['liblinear', 'saga']}],\n",
       "             scoring='f1')"
      ]
     },
     "execution_count": 69,
     "metadata": {},
     "output_type": "execute_result"
    }
   ],
   "source": [
    "# Задаем сетку гиперпараметров для логистической регрессии\n",
    "param_grid = [{'penalty':['l1', 'l2'],\n",
    "               'solver':['liblinear', 'saga'],\n",
    "               'C':[0.01, 0.3, 0.5, 0.7, 0.9]\n",
    "               }\n",
    "              ]\n",
    "\n",
    "# Создаем объект класса GridSearchCV для модели логистической регрессии\n",
    "grid_search_lr = GridSearchCV(estimator=linear_model.LogisticRegression(max_iter=5000,\n",
    "                                                                        random_state=42\n",
    "                                                                        ),\n",
    "                              param_grid=param_grid,\n",
    "                              cv=5,\n",
    "                              n_jobs=-1,\n",
    "                              scoring='f1'\n",
    "                              )\n",
    "\n",
    "# Производим подбор гиперпараметров\n",
    "%time grid_search_lr.fit(X_train, y_train)"
   ]
  },
  {
   "cell_type": "code",
   "execution_count": 70,
   "metadata": {},
   "outputs": [
    {
     "name": "stdout",
     "output_type": "stream",
     "text": [
      "Лучшая комбинация гиперпараметров: {'C': 0.5, 'penalty': 'l1', 'solver': 'saga'}\n",
      "Значение метрики f1-score на тестовой выборке для моделий логистической регрессии: 0.75\n"
     ]
    }
   ],
   "source": [
    "# Выведем лучшую комбинацию гиперпараметров и значение метрики на тестовой выборке\n",
    "print(f'Лучшая комбинация гиперпараметров: {grid_search_lr.best_params_}')\n",
    "print(f'Значение метрики f1-score на тестовой выборке для моделий логистической регрессии: {grid_search_lr.score(X_test, y_test)}')"
   ]
  },
  {
   "attachments": {},
   "cell_type": "markdown",
   "metadata": {},
   "source": [
    "### Случайный лес"
   ]
  },
  {
   "cell_type": "code",
   "execution_count": 106,
   "metadata": {},
   "outputs": [
    {
     "name": "stdout",
     "output_type": "stream",
     "text": [
      "CPU times: user 4.79 s, sys: 46.2 ms, total: 4.83 s\n",
      "Wall time: 54.3 s\n"
     ]
    },
    {
     "data": {
      "text/html": [
       "<style>#sk-container-id-14 {color: black;background-color: white;}#sk-container-id-14 pre{padding: 0;}#sk-container-id-14 div.sk-toggleable {background-color: white;}#sk-container-id-14 label.sk-toggleable__label {cursor: pointer;display: block;width: 100%;margin-bottom: 0;padding: 0.3em;box-sizing: border-box;text-align: center;}#sk-container-id-14 label.sk-toggleable__label-arrow:before {content: \"▸\";float: left;margin-right: 0.25em;color: #696969;}#sk-container-id-14 label.sk-toggleable__label-arrow:hover:before {color: black;}#sk-container-id-14 div.sk-estimator:hover label.sk-toggleable__label-arrow:before {color: black;}#sk-container-id-14 div.sk-toggleable__content {max-height: 0;max-width: 0;overflow: hidden;text-align: left;background-color: #f0f8ff;}#sk-container-id-14 div.sk-toggleable__content pre {margin: 0.2em;color: black;border-radius: 0.25em;background-color: #f0f8ff;}#sk-container-id-14 input.sk-toggleable__control:checked~div.sk-toggleable__content {max-height: 200px;max-width: 100%;overflow: auto;}#sk-container-id-14 input.sk-toggleable__control:checked~label.sk-toggleable__label-arrow:before {content: \"▾\";}#sk-container-id-14 div.sk-estimator input.sk-toggleable__control:checked~label.sk-toggleable__label {background-color: #d4ebff;}#sk-container-id-14 div.sk-label input.sk-toggleable__control:checked~label.sk-toggleable__label {background-color: #d4ebff;}#sk-container-id-14 input.sk-hidden--visually {border: 0;clip: rect(1px 1px 1px 1px);clip: rect(1px, 1px, 1px, 1px);height: 1px;margin: -1px;overflow: hidden;padding: 0;position: absolute;width: 1px;}#sk-container-id-14 div.sk-estimator {font-family: monospace;background-color: #f0f8ff;border: 1px dotted black;border-radius: 0.25em;box-sizing: border-box;margin-bottom: 0.5em;}#sk-container-id-14 div.sk-estimator:hover {background-color: #d4ebff;}#sk-container-id-14 div.sk-parallel-item::after {content: \"\";width: 100%;border-bottom: 1px solid gray;flex-grow: 1;}#sk-container-id-14 div.sk-label:hover label.sk-toggleable__label {background-color: #d4ebff;}#sk-container-id-14 div.sk-serial::before {content: \"\";position: absolute;border-left: 1px solid gray;box-sizing: border-box;top: 0;bottom: 0;left: 50%;z-index: 0;}#sk-container-id-14 div.sk-serial {display: flex;flex-direction: column;align-items: center;background-color: white;padding-right: 0.2em;padding-left: 0.2em;position: relative;}#sk-container-id-14 div.sk-item {position: relative;z-index: 1;}#sk-container-id-14 div.sk-parallel {display: flex;align-items: stretch;justify-content: center;background-color: white;position: relative;}#sk-container-id-14 div.sk-item::before, #sk-container-id-14 div.sk-parallel-item::before {content: \"\";position: absolute;border-left: 1px solid gray;box-sizing: border-box;top: 0;bottom: 0;left: 50%;z-index: -1;}#sk-container-id-14 div.sk-parallel-item {display: flex;flex-direction: column;z-index: 1;position: relative;background-color: white;}#sk-container-id-14 div.sk-parallel-item:first-child::after {align-self: flex-end;width: 50%;}#sk-container-id-14 div.sk-parallel-item:last-child::after {align-self: flex-start;width: 50%;}#sk-container-id-14 div.sk-parallel-item:only-child::after {width: 0;}#sk-container-id-14 div.sk-dashed-wrapped {border: 1px dashed gray;margin: 0 0.4em 0.5em 0.4em;box-sizing: border-box;padding-bottom: 0.4em;background-color: white;}#sk-container-id-14 div.sk-label label {font-family: monospace;font-weight: bold;display: inline-block;line-height: 1.2em;}#sk-container-id-14 div.sk-label-container {text-align: center;}#sk-container-id-14 div.sk-container {/* jupyter's `normalize.less` sets `[hidden] { display: none; }` but bootstrap.min.css set `[hidden] { display: none !important; }` so we also need the `!important` here to be able to override the default hidden behavior on the sphinx rendered scikit-learn.org. See: https://github.com/scikit-learn/scikit-learn/issues/21755 */display: inline-block !important;position: relative;}#sk-container-id-14 div.sk-text-repr-fallback {display: none;}</style><div id=\"sk-container-id-14\" class=\"sk-top-container\"><div class=\"sk-text-repr-fallback\"><pre>GridSearchCV(cv=5, estimator=RandomForestClassifier(random_state=42), n_jobs=-1,\n",
       "             param_grid=[{&#x27;criterion&#x27;: [&#x27;gini&#x27;, &#x27;entropy&#x27;],\n",
       "                          &#x27;max_depth&#x27;: [50, 100], &#x27;min_samples_leaf&#x27;: [1, 5, 7],\n",
       "                          &#x27;n_estimators&#x27;: [100, 200, 300]}],\n",
       "             scoring=&#x27;f1&#x27;)</pre><b>In a Jupyter environment, please rerun this cell to show the HTML representation or trust the notebook. <br />On GitHub, the HTML representation is unable to render, please try loading this page with nbviewer.org.</b></div><div class=\"sk-container\" hidden><div class=\"sk-item sk-dashed-wrapped\"><div class=\"sk-label-container\"><div class=\"sk-label sk-toggleable\"><input class=\"sk-toggleable__control sk-hidden--visually\" id=\"sk-estimator-id-40\" type=\"checkbox\" ><label for=\"sk-estimator-id-40\" class=\"sk-toggleable__label sk-toggleable__label-arrow\">GridSearchCV</label><div class=\"sk-toggleable__content\"><pre>GridSearchCV(cv=5, estimator=RandomForestClassifier(random_state=42), n_jobs=-1,\n",
       "             param_grid=[{&#x27;criterion&#x27;: [&#x27;gini&#x27;, &#x27;entropy&#x27;],\n",
       "                          &#x27;max_depth&#x27;: [50, 100], &#x27;min_samples_leaf&#x27;: [1, 5, 7],\n",
       "                          &#x27;n_estimators&#x27;: [100, 200, 300]}],\n",
       "             scoring=&#x27;f1&#x27;)</pre></div></div></div><div class=\"sk-parallel\"><div class=\"sk-parallel-item\"><div class=\"sk-item\"><div class=\"sk-label-container\"><div class=\"sk-label sk-toggleable\"><input class=\"sk-toggleable__control sk-hidden--visually\" id=\"sk-estimator-id-41\" type=\"checkbox\" ><label for=\"sk-estimator-id-41\" class=\"sk-toggleable__label sk-toggleable__label-arrow\">estimator: RandomForestClassifier</label><div class=\"sk-toggleable__content\"><pre>RandomForestClassifier(random_state=42)</pre></div></div></div><div class=\"sk-serial\"><div class=\"sk-item\"><div class=\"sk-estimator sk-toggleable\"><input class=\"sk-toggleable__control sk-hidden--visually\" id=\"sk-estimator-id-42\" type=\"checkbox\" ><label for=\"sk-estimator-id-42\" class=\"sk-toggleable__label sk-toggleable__label-arrow\">RandomForestClassifier</label><div class=\"sk-toggleable__content\"><pre>RandomForestClassifier(random_state=42)</pre></div></div></div></div></div></div></div></div></div></div>"
      ],
      "text/plain": [
       "GridSearchCV(cv=5, estimator=RandomForestClassifier(random_state=42), n_jobs=-1,\n",
       "             param_grid=[{'criterion': ['gini', 'entropy'],\n",
       "                          'max_depth': [50, 100], 'min_samples_leaf': [1, 5, 7],\n",
       "                          'n_estimators': [100, 200, 300]}],\n",
       "             scoring='f1')"
      ]
     },
     "execution_count": 106,
     "metadata": {},
     "output_type": "execute_result"
    }
   ],
   "source": [
    "# Задаем сетку гиперпараметров для случайного леса \n",
    "# параметры для поиска по сетке отличаются от других методов поиска \n",
    "# так как в задании введено ограничение - количество итераций не превышает 50\n",
    "param_grid_rf = [{'criterion':['gini', 'entropy'], \n",
    "                  'n_estimators':[100, 200, 300],\n",
    "                  'min_samples_leaf':[1,5,7],\n",
    "                  'max_depth':[50, 100]                  \n",
    "                  }\n",
    "                 ]\n",
    "\n",
    "# Создаем объект класса GridSearchCV для модели случайного леса\n",
    "grid_search_rf = GridSearchCV(estimator=ensemble.RandomForestClassifier(random_state=42),\n",
    "                              param_grid=param_grid_rf,\n",
    "                              cv=5,\n",
    "                              n_jobs=-1,\n",
    "                              scoring='f1'\n",
    "                              )\n",
    "\n",
    "# Производим подбор гиперпараметров\n",
    "%time grid_search_rf.fit(X_train, y_train)"
   ]
  },
  {
   "cell_type": "code",
   "execution_count": 107,
   "metadata": {},
   "outputs": [
    {
     "name": "stdout",
     "output_type": "stream",
     "text": [
      "Лучшая комбинация гиперпараметров: {'criterion': 'entropy', 'max_depth': 50, 'min_samples_leaf': 1, 'n_estimators': 300}\n",
      "значение метрики f1-score на тестовой выборке для модели случайного леса: 0.82\n"
     ]
    }
   ],
   "source": [
    "# Выведем лучшую комбинацию гиперпараметров и значение метрики на тестовой выборке\n",
    "print(f'Лучшая комбинация гиперпараметров: {grid_search_rf.best_params_}')\n",
    "print(f'значение метрики f1-score на тестовой выборке для модели случайного леса: {round(grid_search_rf.score(X_test, y_test),2)}')"
   ]
  },
  {
   "attachments": {},
   "cell_type": "markdown",
   "metadata": {},
   "source": [
    "### Результат для способа подбора параметров GridSearchCV\n",
    "Для модели логистической регрессии значение метрики f1-score - 0.75, время подбора параметров составило: около 9 минут. Для модели случайного леса значение метрики f1-score - 0.82, время подбора параметров составило: меньше минуты. Метрику для обеих моделей улучшить не удалось."
   ]
  },
  {
   "attachments": {},
   "cell_type": "markdown",
   "metadata": {},
   "source": [
    "# <center> RandomizedSearchCV </center>"
   ]
  },
  {
   "attachments": {},
   "cell_type": "markdown",
   "metadata": {},
   "source": [
    "### Логистическая регрессия"
   ]
  },
  {
   "cell_type": "code",
   "execution_count": 73,
   "metadata": {},
   "outputs": [
    {
     "name": "stdout",
     "output_type": "stream",
     "text": [
      "CPU times: user 1min 50s, sys: 151 ms, total: 1min 50s\n",
      "Wall time: 8min\n"
     ]
    },
    {
     "data": {
      "text/html": [
       "<style>#sk-container-id-7 {color: black;background-color: white;}#sk-container-id-7 pre{padding: 0;}#sk-container-id-7 div.sk-toggleable {background-color: white;}#sk-container-id-7 label.sk-toggleable__label {cursor: pointer;display: block;width: 100%;margin-bottom: 0;padding: 0.3em;box-sizing: border-box;text-align: center;}#sk-container-id-7 label.sk-toggleable__label-arrow:before {content: \"▸\";float: left;margin-right: 0.25em;color: #696969;}#sk-container-id-7 label.sk-toggleable__label-arrow:hover:before {color: black;}#sk-container-id-7 div.sk-estimator:hover label.sk-toggleable__label-arrow:before {color: black;}#sk-container-id-7 div.sk-toggleable__content {max-height: 0;max-width: 0;overflow: hidden;text-align: left;background-color: #f0f8ff;}#sk-container-id-7 div.sk-toggleable__content pre {margin: 0.2em;color: black;border-radius: 0.25em;background-color: #f0f8ff;}#sk-container-id-7 input.sk-toggleable__control:checked~div.sk-toggleable__content {max-height: 200px;max-width: 100%;overflow: auto;}#sk-container-id-7 input.sk-toggleable__control:checked~label.sk-toggleable__label-arrow:before {content: \"▾\";}#sk-container-id-7 div.sk-estimator input.sk-toggleable__control:checked~label.sk-toggleable__label {background-color: #d4ebff;}#sk-container-id-7 div.sk-label input.sk-toggleable__control:checked~label.sk-toggleable__label {background-color: #d4ebff;}#sk-container-id-7 input.sk-hidden--visually {border: 0;clip: rect(1px 1px 1px 1px);clip: rect(1px, 1px, 1px, 1px);height: 1px;margin: -1px;overflow: hidden;padding: 0;position: absolute;width: 1px;}#sk-container-id-7 div.sk-estimator {font-family: monospace;background-color: #f0f8ff;border: 1px dotted black;border-radius: 0.25em;box-sizing: border-box;margin-bottom: 0.5em;}#sk-container-id-7 div.sk-estimator:hover {background-color: #d4ebff;}#sk-container-id-7 div.sk-parallel-item::after {content: \"\";width: 100%;border-bottom: 1px solid gray;flex-grow: 1;}#sk-container-id-7 div.sk-label:hover label.sk-toggleable__label {background-color: #d4ebff;}#sk-container-id-7 div.sk-serial::before {content: \"\";position: absolute;border-left: 1px solid gray;box-sizing: border-box;top: 0;bottom: 0;left: 50%;z-index: 0;}#sk-container-id-7 div.sk-serial {display: flex;flex-direction: column;align-items: center;background-color: white;padding-right: 0.2em;padding-left: 0.2em;position: relative;}#sk-container-id-7 div.sk-item {position: relative;z-index: 1;}#sk-container-id-7 div.sk-parallel {display: flex;align-items: stretch;justify-content: center;background-color: white;position: relative;}#sk-container-id-7 div.sk-item::before, #sk-container-id-7 div.sk-parallel-item::before {content: \"\";position: absolute;border-left: 1px solid gray;box-sizing: border-box;top: 0;bottom: 0;left: 50%;z-index: -1;}#sk-container-id-7 div.sk-parallel-item {display: flex;flex-direction: column;z-index: 1;position: relative;background-color: white;}#sk-container-id-7 div.sk-parallel-item:first-child::after {align-self: flex-end;width: 50%;}#sk-container-id-7 div.sk-parallel-item:last-child::after {align-self: flex-start;width: 50%;}#sk-container-id-7 div.sk-parallel-item:only-child::after {width: 0;}#sk-container-id-7 div.sk-dashed-wrapped {border: 1px dashed gray;margin: 0 0.4em 0.5em 0.4em;box-sizing: border-box;padding-bottom: 0.4em;background-color: white;}#sk-container-id-7 div.sk-label label {font-family: monospace;font-weight: bold;display: inline-block;line-height: 1.2em;}#sk-container-id-7 div.sk-label-container {text-align: center;}#sk-container-id-7 div.sk-container {/* jupyter's `normalize.less` sets `[hidden] { display: none; }` but bootstrap.min.css set `[hidden] { display: none !important; }` so we also need the `!important` here to be able to override the default hidden behavior on the sphinx rendered scikit-learn.org. See: https://github.com/scikit-learn/scikit-learn/issues/21755 */display: inline-block !important;position: relative;}#sk-container-id-7 div.sk-text-repr-fallback {display: none;}</style><div id=\"sk-container-id-7\" class=\"sk-top-container\"><div class=\"sk-text-repr-fallback\"><pre>RandomizedSearchCV(cv=5,\n",
       "                   estimator=LogisticRegression(max_iter=5000, random_state=42),\n",
       "                   n_iter=20, n_jobs=-1,\n",
       "                   param_distributions=[{&#x27;C&#x27;: [0.01, 0.12, 0.23, 0.34, 0.45,\n",
       "                                               0.56, 0.67, 0.78, 0.89, 1.0],\n",
       "                                         &#x27;penalty&#x27;: [&#x27;l1&#x27;, &#x27;l2&#x27;],\n",
       "                                         &#x27;solver&#x27;: [&#x27;liblinear&#x27;, &#x27;saga&#x27;]}],\n",
       "                   scoring=&#x27;f1&#x27;)</pre><b>In a Jupyter environment, please rerun this cell to show the HTML representation or trust the notebook. <br />On GitHub, the HTML representation is unable to render, please try loading this page with nbviewer.org.</b></div><div class=\"sk-container\" hidden><div class=\"sk-item sk-dashed-wrapped\"><div class=\"sk-label-container\"><div class=\"sk-label sk-toggleable\"><input class=\"sk-toggleable__control sk-hidden--visually\" id=\"sk-estimator-id-19\" type=\"checkbox\" ><label for=\"sk-estimator-id-19\" class=\"sk-toggleable__label sk-toggleable__label-arrow\">RandomizedSearchCV</label><div class=\"sk-toggleable__content\"><pre>RandomizedSearchCV(cv=5,\n",
       "                   estimator=LogisticRegression(max_iter=5000, random_state=42),\n",
       "                   n_iter=20, n_jobs=-1,\n",
       "                   param_distributions=[{&#x27;C&#x27;: [0.01, 0.12, 0.23, 0.34, 0.45,\n",
       "                                               0.56, 0.67, 0.78, 0.89, 1.0],\n",
       "                                         &#x27;penalty&#x27;: [&#x27;l1&#x27;, &#x27;l2&#x27;],\n",
       "                                         &#x27;solver&#x27;: [&#x27;liblinear&#x27;, &#x27;saga&#x27;]}],\n",
       "                   scoring=&#x27;f1&#x27;)</pre></div></div></div><div class=\"sk-parallel\"><div class=\"sk-parallel-item\"><div class=\"sk-item\"><div class=\"sk-label-container\"><div class=\"sk-label sk-toggleable\"><input class=\"sk-toggleable__control sk-hidden--visually\" id=\"sk-estimator-id-20\" type=\"checkbox\" ><label for=\"sk-estimator-id-20\" class=\"sk-toggleable__label sk-toggleable__label-arrow\">estimator: LogisticRegression</label><div class=\"sk-toggleable__content\"><pre>LogisticRegression(max_iter=5000, random_state=42)</pre></div></div></div><div class=\"sk-serial\"><div class=\"sk-item\"><div class=\"sk-estimator sk-toggleable\"><input class=\"sk-toggleable__control sk-hidden--visually\" id=\"sk-estimator-id-21\" type=\"checkbox\" ><label for=\"sk-estimator-id-21\" class=\"sk-toggleable__label sk-toggleable__label-arrow\">LogisticRegression</label><div class=\"sk-toggleable__content\"><pre>LogisticRegression(max_iter=5000, random_state=42)</pre></div></div></div></div></div></div></div></div></div></div>"
      ],
      "text/plain": [
       "RandomizedSearchCV(cv=5,\n",
       "                   estimator=LogisticRegression(max_iter=5000, random_state=42),\n",
       "                   n_iter=20, n_jobs=-1,\n",
       "                   param_distributions=[{'C': [0.01, 0.12, 0.23, 0.34, 0.45,\n",
       "                                               0.56, 0.67, 0.78, 0.89, 1.0],\n",
       "                                         'penalty': ['l1', 'l2'],\n",
       "                                         'solver': ['liblinear', 'saga']}],\n",
       "                   scoring='f1')"
      ]
     },
     "execution_count": 73,
     "metadata": {},
     "output_type": "execute_result"
    }
   ],
   "source": [
    "# Задаем сетку гиперпараметров для логистической регрессии\n",
    "param_grid = [{'penalty':['l1', 'l2'],\n",
    "               'solver':['liblinear', 'saga'],\n",
    "               'C':list(np.linspace(0.01, 1, 10, dtype=float))\n",
    "               }\n",
    "              ]\n",
    "\n",
    "# Создаем объект класса RandomizedSearchCV для модели логистической регрессии\n",
    "random_search_lr = RandomizedSearchCV(estimator=linear_model.LogisticRegression(max_iter=5000,\n",
    "                                                                                random_state=42\n",
    "                                                                                ),\n",
    "                                      param_distributions=param_grid,\n",
    "                                      cv=5,\n",
    "                                      n_iter=20,\n",
    "                                      n_jobs=-1,\n",
    "                                      scoring='f1'\n",
    "                                      )\n",
    "\n",
    "# Производим подбор гиперпараметров\n",
    "%time random_search_lr.fit(X_train, y_train)"
   ]
  },
  {
   "cell_type": "code",
   "execution_count": 74,
   "metadata": {},
   "outputs": [
    {
     "name": "stdout",
     "output_type": "stream",
     "text": [
      "Лучшая комбинация гиперпараметров: {'solver': 'saga', 'penalty': 'l1', 'C': 0.34}\n",
      "Значение метрики f1-scoreна тестовой выборке для модели логистической регрессии: 0.75\n"
     ]
    }
   ],
   "source": [
    "# Выведем лучшую комбинацию гиперпараметров и значение метрики на тестовой выборке\n",
    "print(f'Лучшая комбинация гиперпараметров: {random_search_lr.best_params_}')\n",
    "print(f'Значение метрики f1-scoreна тестовой выборке для модели логистической регрессии: {random_search_lr.score(X_test, y_test)}')\n"
   ]
  },
  {
   "attachments": {},
   "cell_type": "markdown",
   "metadata": {},
   "source": [
    "### Случайный лес"
   ]
  },
  {
   "cell_type": "code",
   "execution_count": 103,
   "metadata": {},
   "outputs": [
    {
     "name": "stdout",
     "output_type": "stream",
     "text": [
      "CPU times: user 3.58 s, sys: 213 ms, total: 3.79 s\n",
      "Wall time: 48.6 s\n"
     ]
    },
    {
     "data": {
      "text/html": [
       "<style>#sk-container-id-13 {color: black;background-color: white;}#sk-container-id-13 pre{padding: 0;}#sk-container-id-13 div.sk-toggleable {background-color: white;}#sk-container-id-13 label.sk-toggleable__label {cursor: pointer;display: block;width: 100%;margin-bottom: 0;padding: 0.3em;box-sizing: border-box;text-align: center;}#sk-container-id-13 label.sk-toggleable__label-arrow:before {content: \"▸\";float: left;margin-right: 0.25em;color: #696969;}#sk-container-id-13 label.sk-toggleable__label-arrow:hover:before {color: black;}#sk-container-id-13 div.sk-estimator:hover label.sk-toggleable__label-arrow:before {color: black;}#sk-container-id-13 div.sk-toggleable__content {max-height: 0;max-width: 0;overflow: hidden;text-align: left;background-color: #f0f8ff;}#sk-container-id-13 div.sk-toggleable__content pre {margin: 0.2em;color: black;border-radius: 0.25em;background-color: #f0f8ff;}#sk-container-id-13 input.sk-toggleable__control:checked~div.sk-toggleable__content {max-height: 200px;max-width: 100%;overflow: auto;}#sk-container-id-13 input.sk-toggleable__control:checked~label.sk-toggleable__label-arrow:before {content: \"▾\";}#sk-container-id-13 div.sk-estimator input.sk-toggleable__control:checked~label.sk-toggleable__label {background-color: #d4ebff;}#sk-container-id-13 div.sk-label input.sk-toggleable__control:checked~label.sk-toggleable__label {background-color: #d4ebff;}#sk-container-id-13 input.sk-hidden--visually {border: 0;clip: rect(1px 1px 1px 1px);clip: rect(1px, 1px, 1px, 1px);height: 1px;margin: -1px;overflow: hidden;padding: 0;position: absolute;width: 1px;}#sk-container-id-13 div.sk-estimator {font-family: monospace;background-color: #f0f8ff;border: 1px dotted black;border-radius: 0.25em;box-sizing: border-box;margin-bottom: 0.5em;}#sk-container-id-13 div.sk-estimator:hover {background-color: #d4ebff;}#sk-container-id-13 div.sk-parallel-item::after {content: \"\";width: 100%;border-bottom: 1px solid gray;flex-grow: 1;}#sk-container-id-13 div.sk-label:hover label.sk-toggleable__label {background-color: #d4ebff;}#sk-container-id-13 div.sk-serial::before {content: \"\";position: absolute;border-left: 1px solid gray;box-sizing: border-box;top: 0;bottom: 0;left: 50%;z-index: 0;}#sk-container-id-13 div.sk-serial {display: flex;flex-direction: column;align-items: center;background-color: white;padding-right: 0.2em;padding-left: 0.2em;position: relative;}#sk-container-id-13 div.sk-item {position: relative;z-index: 1;}#sk-container-id-13 div.sk-parallel {display: flex;align-items: stretch;justify-content: center;background-color: white;position: relative;}#sk-container-id-13 div.sk-item::before, #sk-container-id-13 div.sk-parallel-item::before {content: \"\";position: absolute;border-left: 1px solid gray;box-sizing: border-box;top: 0;bottom: 0;left: 50%;z-index: -1;}#sk-container-id-13 div.sk-parallel-item {display: flex;flex-direction: column;z-index: 1;position: relative;background-color: white;}#sk-container-id-13 div.sk-parallel-item:first-child::after {align-self: flex-end;width: 50%;}#sk-container-id-13 div.sk-parallel-item:last-child::after {align-self: flex-start;width: 50%;}#sk-container-id-13 div.sk-parallel-item:only-child::after {width: 0;}#sk-container-id-13 div.sk-dashed-wrapped {border: 1px dashed gray;margin: 0 0.4em 0.5em 0.4em;box-sizing: border-box;padding-bottom: 0.4em;background-color: white;}#sk-container-id-13 div.sk-label label {font-family: monospace;font-weight: bold;display: inline-block;line-height: 1.2em;}#sk-container-id-13 div.sk-label-container {text-align: center;}#sk-container-id-13 div.sk-container {/* jupyter's `normalize.less` sets `[hidden] { display: none; }` but bootstrap.min.css set `[hidden] { display: none !important; }` so we also need the `!important` here to be able to override the default hidden behavior on the sphinx rendered scikit-learn.org. See: https://github.com/scikit-learn/scikit-learn/issues/21755 */display: inline-block !important;position: relative;}#sk-container-id-13 div.sk-text-repr-fallback {display: none;}</style><div id=\"sk-container-id-13\" class=\"sk-top-container\"><div class=\"sk-text-repr-fallback\"><pre>RandomizedSearchCV(cv=5, estimator=RandomForestClassifier(random_state=42),\n",
       "                   n_iter=20, n_jobs=-1,\n",
       "                   param_distributions=[{&#x27;criterion&#x27;: [&#x27;gini&#x27;, &#x27;entropy&#x27;],\n",
       "                                         &#x27;max_depth&#x27;: [25, 30, 35, 40, 45, 50,\n",
       "                                                       55, 60, 65, 70, 75, 80,\n",
       "                                                       85, 90, 95],\n",
       "                                         &#x27;min_samples_leaf&#x27;: [1, 2, 3, 4, 5],\n",
       "                                         &#x27;n_estimators&#x27;: [100, 150, 200, 250,\n",
       "                                                          300, 350, 400,\n",
       "                                                          450]}],\n",
       "                   scoring=&#x27;f1&#x27;)</pre><b>In a Jupyter environment, please rerun this cell to show the HTML representation or trust the notebook. <br />On GitHub, the HTML representation is unable to render, please try loading this page with nbviewer.org.</b></div><div class=\"sk-container\" hidden><div class=\"sk-item sk-dashed-wrapped\"><div class=\"sk-label-container\"><div class=\"sk-label sk-toggleable\"><input class=\"sk-toggleable__control sk-hidden--visually\" id=\"sk-estimator-id-37\" type=\"checkbox\" ><label for=\"sk-estimator-id-37\" class=\"sk-toggleable__label sk-toggleable__label-arrow\">RandomizedSearchCV</label><div class=\"sk-toggleable__content\"><pre>RandomizedSearchCV(cv=5, estimator=RandomForestClassifier(random_state=42),\n",
       "                   n_iter=20, n_jobs=-1,\n",
       "                   param_distributions=[{&#x27;criterion&#x27;: [&#x27;gini&#x27;, &#x27;entropy&#x27;],\n",
       "                                         &#x27;max_depth&#x27;: [25, 30, 35, 40, 45, 50,\n",
       "                                                       55, 60, 65, 70, 75, 80,\n",
       "                                                       85, 90, 95],\n",
       "                                         &#x27;min_samples_leaf&#x27;: [1, 2, 3, 4, 5],\n",
       "                                         &#x27;n_estimators&#x27;: [100, 150, 200, 250,\n",
       "                                                          300, 350, 400,\n",
       "                                                          450]}],\n",
       "                   scoring=&#x27;f1&#x27;)</pre></div></div></div><div class=\"sk-parallel\"><div class=\"sk-parallel-item\"><div class=\"sk-item\"><div class=\"sk-label-container\"><div class=\"sk-label sk-toggleable\"><input class=\"sk-toggleable__control sk-hidden--visually\" id=\"sk-estimator-id-38\" type=\"checkbox\" ><label for=\"sk-estimator-id-38\" class=\"sk-toggleable__label sk-toggleable__label-arrow\">estimator: RandomForestClassifier</label><div class=\"sk-toggleable__content\"><pre>RandomForestClassifier(random_state=42)</pre></div></div></div><div class=\"sk-serial\"><div class=\"sk-item\"><div class=\"sk-estimator sk-toggleable\"><input class=\"sk-toggleable__control sk-hidden--visually\" id=\"sk-estimator-id-39\" type=\"checkbox\" ><label for=\"sk-estimator-id-39\" class=\"sk-toggleable__label sk-toggleable__label-arrow\">RandomForestClassifier</label><div class=\"sk-toggleable__content\"><pre>RandomForestClassifier(random_state=42)</pre></div></div></div></div></div></div></div></div></div></div>"
      ],
      "text/plain": [
       "RandomizedSearchCV(cv=5, estimator=RandomForestClassifier(random_state=42),\n",
       "                   n_iter=20, n_jobs=-1,\n",
       "                   param_distributions=[{'criterion': ['gini', 'entropy'],\n",
       "                                         'max_depth': [25, 30, 35, 40, 45, 50,\n",
       "                                                       55, 60, 65, 70, 75, 80,\n",
       "                                                       85, 90, 95],\n",
       "                                         'min_samples_leaf': [1, 2, 3, 4, 5],\n",
       "                                         'n_estimators': [100, 150, 200, 250,\n",
       "                                                          300, 350, 400,\n",
       "                                                          450]}],\n",
       "                   scoring='f1')"
      ]
     },
     "execution_count": 103,
     "metadata": {},
     "output_type": "execute_result"
    }
   ],
   "source": [
    "# Задаем сетку гиперпараметров для случайного леса\n",
    "param_grid_rf = [{'criterion':['gini', 'entropy'], \n",
    "                  'n_estimators':list(range(100, 500, 50)),\n",
    "                  'min_samples_leaf':list(np.linspace(1, 5, 5, dtype=int)),\n",
    "                  'max_depth':list(range(25, 100, 5))                                   \n",
    "                  }\n",
    "                 ]\n",
    "\n",
    "# Создаем объект класса RandomizedSearchCV для модели случайного леса\n",
    "random_search_rf = RandomizedSearchCV(estimator=ensemble.RandomForestClassifier(random_state=42),\n",
    "                                      param_distributions=param_grid_rf,\n",
    "                                      cv=5,\n",
    "                                      n_iter=20,\n",
    "                                      n_jobs=-1,\n",
    "                                      scoring='f1'\n",
    "                                      )\n",
    "\n",
    "# Производим подбор гиперпараметров\n",
    "%time random_search_rf.fit(X_train, y_train)"
   ]
  },
  {
   "cell_type": "code",
   "execution_count": 105,
   "metadata": {},
   "outputs": [
    {
     "name": "stdout",
     "output_type": "stream",
     "text": [
      "Лучшая комбинация гиперпараметров: {'n_estimators': 250, 'min_samples_leaf': 2, 'max_depth': 90, 'criterion': 'entropy'}\n",
      "Значение метрики f1-score на тестовой выборке для модели случайного леса: 0.78\n"
     ]
    }
   ],
   "source": [
    "# Выведем лучшую комбинацию гиперпараметров и значение метрики на тестовой выборке\n",
    "print(f'Лучшая комбинация гиперпараметров: {random_search_rf.best_params_}')\n",
    "print(f'Значение метрики f1-score на тестовой выборке для модели случайного леса: {round(random_search_rf.score(X_test, y_test),2)}')"
   ]
  },
  {
   "attachments": {},
   "cell_type": "markdown",
   "metadata": {},
   "source": [
    "### Результат для способа подбора параметров RandomizedSearchCV\n",
    "Для модели логистической регрессии значение метрики f1-score - 0.75, время подбора параметров составило: оклоо 8 минут. Для модели случайного леса значение метрики f1-score - 0.78, время подбора параметров составило: меньше минуты. Метрика для модели логистической регрессии не изменилась, для случайного леса снизилась."
   ]
  },
  {
   "attachments": {},
   "cell_type": "markdown",
   "metadata": {},
   "source": [
    "# <center> Hyperopt </center>"
   ]
  },
  {
   "attachments": {},
   "cell_type": "markdown",
   "metadata": {},
   "source": [
    "### Логистическая регрессия"
   ]
  },
  {
   "cell_type": "code",
   "execution_count": 77,
   "metadata": {},
   "outputs": [],
   "source": [
    "# Задаем пространство гиперпараметров для модели логистической регрессии\n",
    "space = {'penalty':hp.choice('penalty', ['l1', 'l2']),\n",
    "         'solver':hp.choice('solver', ['liblinear', 'saga']),\n",
    "         'C':hp.quniform('C', 0.01, 1, 0.01)\n",
    "         }\n",
    "              \n",
    "# Задаем функцию для минимизации\n",
    "def hyperopt_lr(params, cv=5, X=X_train, y=y_train, random_state=42):\n",
    "    # функция получает комбинацию гиперпараметров в \"params\"\n",
    "    params = {'penalty':params['penalty'],\n",
    "               'solver':params['solver'],\n",
    "               'C':params['C']\n",
    "               }\n",
    "    model = linear_model.LogisticRegression(**params, random_state=random_state, max_iter=5000)\n",
    "        \n",
    "    # используем кросс-валидацию\n",
    "    score = cross_val_score(model, X, y, cv=cv, scoring='f1', n_jobs=-1).mean()\n",
    "    return -score # так как используем метрику f1-score - ставим знак минус"
   ]
  },
  {
   "cell_type": "code",
   "execution_count": 78,
   "metadata": {},
   "outputs": [
    {
     "name": "stdout",
     "output_type": "stream",
     "text": [
      "CPU times: user 2 µs, sys: 0 ns, total: 2 µs\n",
      "Wall time: 3.58 µs\n",
      "  0%|          | 0/20 [00:00<?, ?trial/s, best loss=?]"
     ]
    },
    {
     "name": "stdout",
     "output_type": "stream",
     "text": [
      "100%|██████████| 20/20 [15:42<00:00, 47.14s/trial, best loss: -0.7936242351503495]\n",
      "Наилучшие значения гиперпараметров {'C': 0.47000000000000003, 'penalty': 0, 'solver': 1}\n"
     ]
    }
   ],
   "source": [
    "# Начинаем подбор гиперпараметров\n",
    "%time \n",
    "\n",
    "trials = Trials() # используется для логирования результатов\n",
    "\n",
    "best_lr=fmin(hyperopt_lr, # наша функция \n",
    "             space=space, # пространство гиперпараметров\n",
    "             algo=tpe.suggest, # алгоритм оптимизации, установлен по умолчанию, задавать необязательно\n",
    "             max_evals=20, # максимальное количество итераций\n",
    "             trials=trials, # логирование результатов\n",
    "             rstate=np.random.default_rng(42) # фиксируем для повторяемости результата\n",
    "             )\n",
    "print(\"Наилучшие значения гиперпараметров {}\".format(best_lr))"
   ]
  },
  {
   "cell_type": "code",
   "execution_count": 79,
   "metadata": {},
   "outputs": [
    {
     "name": "stdout",
     "output_type": "stream",
     "text": [
      "f1_score на тестовом наборе для модели логистической регрессии: 0.75\n"
     ]
    }
   ],
   "source": [
    "# Задаем списки с гиперпараметрами, так как категориальные значения сохраняются в виде индексов\n",
    "penalty = ['l1', 'l2']\n",
    "solver = ['liblinear', 'saga']\n",
    "\n",
    "# Рассчитаем точность для тестовой выборки\n",
    "model_hyp_lr = linear_model.LogisticRegression(max_iter=5000,\n",
    "                                               random_state=42, \n",
    "                                               penalty=penalty[best_lr['penalty']],\n",
    "                                               solver=solver[best_lr['solver']],\n",
    "                                               C=best_lr['C']\n",
    "                                               )\n",
    "model_hyp_lr.fit(X_train, y_train)\n",
    "y_test_pred = model_hyp_lr.predict(X_test)\n",
    "print('f1_score на тестовом наборе для модели логистической регрессии: {:.2f}'.format(metrics.f1_score(y_test, y_test_pred)))"
   ]
  },
  {
   "attachments": {},
   "cell_type": "markdown",
   "metadata": {},
   "source": [
    "### Случайный лес"
   ]
  },
  {
   "cell_type": "code",
   "execution_count": 80,
   "metadata": {},
   "outputs": [],
   "source": [
    "# Задаем пространство гиперпараметров для модели случайного леса\n",
    "space_rf = {'criterion':hp.choice('criterion', ['gini', 'entropy']),\n",
    "            'n_estimators':hp.quniform('n_estimators', 100, 500, 5),\n",
    "            'min_samples_leaf':hp.quniform('min_samples_leaf', 1, 5, 1),\n",
    "            'max_depth':hp.quniform('max_depth', 25, 100, 5)  \n",
    "            }\n",
    "\n",
    "# Задаем функцию для минимизации\n",
    "def hyperopt_rf(params, cv=5, X=X_train, y=y_train, random_state=42):\n",
    "    # функция получает комбинацию гиперпараметров в \"params\"\n",
    "    params = {'criterion':params['criterion'],\n",
    "               'n_estimators':int(params['n_estimators']),\n",
    "               'min_samples_leaf':int(params['min_samples_leaf']),\n",
    "               'max_depth':int(params['max_depth'])\n",
    "               }\n",
    "    model = ensemble.RandomForestClassifier(**params, random_state=random_state)\n",
    "        \n",
    "    # используем кросс-валидацию\n",
    "    score = cross_val_score(model, X, y, cv=cv, scoring='f1', n_jobs=-1).mean()\n",
    "    return -score # так как используем метрику f1-score - ставим знак минус"
   ]
  },
  {
   "cell_type": "code",
   "execution_count": 81,
   "metadata": {},
   "outputs": [
    {
     "name": "stdout",
     "output_type": "stream",
     "text": [
      "CPU times: user 66 µs, sys: 5 µs, total: 71 µs\n",
      "Wall time: 11.4 µs\n",
      "  0%|          | 0/20 [00:00<?, ?trial/s, best loss=?]"
     ]
    },
    {
     "name": "stdout",
     "output_type": "stream",
     "text": [
      "100%|██████████| 20/20 [01:10<00:00,  3.53s/trial, best loss: -0.8262375976440357]\n",
      "Наилучшие значения гиперпараметров {'criterion': 1, 'max_depth': 60.0, 'min_samples_leaf': 2.0, 'n_estimators': 400.0}\n"
     ]
    }
   ],
   "source": [
    "# Начинаем подбор гиперпараметров\n",
    "%time \n",
    "\n",
    "trials_rf = Trials() # используется для логирования результатов\n",
    "\n",
    "best_rf=fmin(hyperopt_rf, # наша функция \n",
    "             space=space_rf, # пространство гиперпараметров\n",
    "             algo=tpe.suggest, # алгоритм оптимизации, установлен по умолчанию, задавать необязательно\n",
    "             max_evals=20, # максимальное количество итераций\n",
    "             trials=trials_rf, # логирование результатов\n",
    "             rstate=np.random.default_rng(42)# фиксируем для повторяемости результата\n",
    "             )\n",
    "print(\"Наилучшие значения гиперпараметров {}\".format(best_rf))"
   ]
  },
  {
   "cell_type": "code",
   "execution_count": 82,
   "metadata": {},
   "outputs": [
    {
     "name": "stdout",
     "output_type": "stream",
     "text": [
      "f1_score на тестовом наборе для модели случайного леса: 0.78\n"
     ]
    }
   ],
   "source": [
    "# Задаем списки с гиперпараметрами, так как категориальные значения сохраняются в виде индексов\n",
    "criterion = ['gini', 'entropy']\n",
    "\n",
    "# Рассчитаем точность для тестовой выборки\n",
    "model_hyp_rf = ensemble.RandomForestClassifier(random_state=42,\n",
    "                                               criterion=criterion[best_rf['criterion']],\n",
    "                                               n_estimators=int(best_rf['n_estimators']),\n",
    "                                               min_samples_leaf=int(best_rf['min_samples_leaf']),\n",
    "                                               max_depth=int(best_rf['max_depth'])                                               \n",
    "                                               )\n",
    "model_hyp_rf.fit(X_train, y_train)\n",
    "y_test_pred_rf = model_hyp_rf.predict(X_test)\n",
    "print('f1_score на тестовом наборе для модели случайного леса: {:.2f}'.format(metrics.f1_score(y_test, y_test_pred_rf)))"
   ]
  },
  {
   "attachments": {},
   "cell_type": "markdown",
   "metadata": {},
   "source": [
    "### Результат для способа подбора параметров Hyperopt\n",
    "Для модели логистической регрессии значение метрики f1-score - 0.75, время подбора параметров составило: около 16 минут. Для модели случайного леса значение метрики f1-score - 0.78, время подбора параметров составило: чуть больше минуты. Метрика для логистической модели осталась неизменной, а для модели случайного леса снизилась."
   ]
  },
  {
   "attachments": {},
   "cell_type": "markdown",
   "metadata": {},
   "source": [
    "# <center> Optuna </center>"
   ]
  },
  {
   "attachments": {},
   "cell_type": "markdown",
   "metadata": {},
   "source": [
    "### Логистическая регрессия"
   ]
  },
  {
   "cell_type": "code",
   "execution_count": 92,
   "metadata": {},
   "outputs": [],
   "source": [
    "# Задаем функцию оптимизации\n",
    "def optuna_lr(trial):\n",
    "    # задаем пространства поиска гиперпараметров\n",
    "    penalty = trial.suggest_categorical('penalty', ['l1', 'l2'])\n",
    "    solver = trial.suggest_categorical('solver', ['liblinear', 'saga'])\n",
    "    C = trial.suggest_float(name='C', low=0.01, high=1, step=0.01)\n",
    "    \n",
    "    # создаем модель\n",
    "    model = linear_model.LogisticRegression(penalty=penalty,\n",
    "                                            solver=solver,\n",
    "                                            C=C,\n",
    "                                            random_state=42,\n",
    "                                            max_iter=5000\n",
    "                                            )\n",
    "    # обучаем модель\n",
    "    model.fit(X_train, y_train)\n",
    "    \n",
    "    # используем кросс-валидацию\n",
    "    score = cross_val_score(model, X, y, cv=5, scoring='f1', n_jobs=-1).mean()\n",
    "    return score"
   ]
  },
  {
   "cell_type": "code",
   "execution_count": 93,
   "metadata": {},
   "outputs": [
    {
     "name": "stderr",
     "output_type": "stream",
     "text": [
      "[I 2023-06-20 23:04:28,891] A new study created in memory with name: LogisticRegression\n",
      "[I 2023-06-20 23:04:29,419] Trial 0 finished with value: 0.7775346001424086 and parameters: {'penalty': 'l1', 'solver': 'liblinear', 'C': 0.06999999999999999}. Best is trial 0 with value: 0.7775346001424086.\n",
      "[I 2023-06-20 23:04:30,556] Trial 1 finished with value: 0.78124495578693 and parameters: {'penalty': 'l1', 'solver': 'liblinear', 'C': 0.7000000000000001}. Best is trial 1 with value: 0.78124495578693.\n",
      "[I 2023-06-20 23:05:54,300] Trial 2 finished with value: 0.7854782314590417 and parameters: {'penalty': 'l1', 'solver': 'saga', 'C': 0.17}. Best is trial 2 with value: 0.7854782314590417.\n",
      "[I 2023-06-20 23:05:55,084] Trial 3 finished with value: 0.7880661741973343 and parameters: {'penalty': 'l1', 'solver': 'liblinear', 'C': 0.22}. Best is trial 3 with value: 0.7880661741973343.\n",
      "[I 2023-06-20 23:05:55,850] Trial 4 finished with value: 0.7867413052908552 and parameters: {'penalty': 'l2', 'solver': 'liblinear', 'C': 0.05}. Best is trial 3 with value: 0.7880661741973343.\n",
      "[I 2023-06-20 23:06:37,432] Trial 5 finished with value: 0.7780774607784962 and parameters: {'penalty': 'l2', 'solver': 'saga', 'C': 0.55}. Best is trial 3 with value: 0.7880661741973343.\n",
      "[I 2023-06-20 23:07:12,608] Trial 6 finished with value: 0.7787240719766448 and parameters: {'penalty': 'l2', 'solver': 'saga', 'C': 0.43}. Best is trial 3 with value: 0.7880661741973343.\n",
      "[I 2023-06-20 23:10:37,245] Trial 7 finished with value: 0.7867378312261983 and parameters: {'penalty': 'l1', 'solver': 'saga', 'C': 0.38}. Best is trial 3 with value: 0.7880661741973343.\n",
      "[I 2023-06-20 23:11:06,346] Trial 8 finished with value: 0.7789341074905937 and parameters: {'penalty': 'l2', 'solver': 'saga', 'C': 0.34}. Best is trial 3 with value: 0.7880661741973343.\n",
      "[I 2023-06-20 23:11:07,617] Trial 9 finished with value: 0.7788720928189331 and parameters: {'penalty': 'l2', 'solver': 'liblinear', 'C': 0.64}. Best is trial 3 with value: 0.7880661741973343.\n",
      "[I 2023-06-20 23:11:09,440] Trial 10 finished with value: 0.7771468678372419 and parameters: {'penalty': 'l1', 'solver': 'liblinear', 'C': 0.91}. Best is trial 3 with value: 0.7880661741973343.\n",
      "[I 2023-06-20 23:11:10,106] Trial 11 finished with value: 0.790418113042934 and parameters: {'penalty': 'l2', 'solver': 'liblinear', 'C': 0.02}. Best is trial 11 with value: 0.790418113042934.\n",
      "[I 2023-06-20 23:11:10,914] Trial 12 finished with value: 0.7880661741973343 and parameters: {'penalty': 'l1', 'solver': 'liblinear', 'C': 0.22}. Best is trial 11 with value: 0.790418113042934.\n",
      "[I 2023-06-20 23:11:11,849] Trial 13 finished with value: 0.7812826611411385 and parameters: {'penalty': 'l2', 'solver': 'liblinear', 'C': 0.22}. Best is trial 11 with value: 0.790418113042934.\n",
      "[I 2023-06-20 23:11:12,248] Trial 14 finished with value: 0.7515876530999732 and parameters: {'penalty': 'l1', 'solver': 'liblinear', 'C': 0.02}. Best is trial 11 with value: 0.790418113042934.\n",
      "[I 2023-06-20 23:11:13,353] Trial 15 finished with value: 0.7802252168216932 and parameters: {'penalty': 'l2', 'solver': 'liblinear', 'C': 0.26}. Best is trial 11 with value: 0.790418113042934.\n",
      "[I 2023-06-20 23:11:14,238] Trial 16 finished with value: 0.7871522250647358 and parameters: {'penalty': 'l2', 'solver': 'liblinear', 'C': 0.08}. Best is trial 11 with value: 0.790418113042934.\n",
      "[I 2023-06-20 23:11:14,777] Trial 17 finished with value: 0.7882939629676082 and parameters: {'penalty': 'l1', 'solver': 'liblinear', 'C': 0.14}. Best is trial 11 with value: 0.790418113042934.\n",
      "[I 2023-06-20 23:11:16,121] Trial 18 finished with value: 0.7751669878889633 and parameters: {'penalty': 'l2', 'solver': 'liblinear', 'C': 0.97}. Best is trial 11 with value: 0.790418113042934.\n",
      "[I 2023-06-20 23:11:16,625] Trial 19 finished with value: 0.7879182067619939 and parameters: {'penalty': 'l1', 'solver': 'liblinear', 'C': 0.12}. Best is trial 11 with value: 0.790418113042934.\n"
     ]
    },
    {
     "name": "stdout",
     "output_type": "stream",
     "text": [
      "Наилучшие значения гиперпараметров {'penalty': 'l2', 'solver': 'liblinear', 'C': 0.02}\n",
      "CPU times: user 3min 35s, sys: 991 ms, total: 3min 36s\n",
      "Wall time: 6min 47s\n"
     ]
    }
   ],
   "source": [
    "%%time\n",
    "# cоздаем объект исследования\n",
    "study_lr = optuna.create_study(study_name=\"LogisticRegression\", direction=\"maximize\")\n",
    "\n",
    "# ищем лучшую комбинацию гиперпараметров n_trials раз\n",
    "study_lr.optimize(optuna_lr, n_trials=20)\n",
    "\n",
    "# выводим результаты на обучающей выборке\n",
    "print(\"Наилучшие значения гиперпараметров {}\".format(study_lr.best_params))"
   ]
  },
  {
   "cell_type": "code",
   "execution_count": 94,
   "metadata": {},
   "outputs": [
    {
     "name": "stdout",
     "output_type": "stream",
     "text": [
      "f1_score на тестовом наборе для модели логистической регрессии: 0.75\n"
     ]
    }
   ],
   "source": [
    "# рассчитаем f1 для тестовой выборки\n",
    "model_lr_opt = linear_model.LogisticRegression(**study_lr.best_params,random_state=42, max_iter=2500)\n",
    "model_lr_opt.fit(X_train, y_train)\n",
    "\n",
    "# делаем предсказание и рассчитываем метрику\n",
    "y_test_pred_lr_opt = model_lr_opt.predict(X_test)\n",
    "print('f1_score на тестовом наборе для модели логистической регрессии: {:.2f}'.format(metrics.f1_score(y_test, y_test_pred_lr_opt)))"
   ]
  },
  {
   "attachments": {},
   "cell_type": "markdown",
   "metadata": {},
   "source": [
    "Случайный лес"
   ]
  },
  {
   "cell_type": "code",
   "execution_count": 86,
   "metadata": {},
   "outputs": [],
   "source": [
    "# Задаем функцию оптимизации для моедли случайного леса\n",
    "def optuna_rf(trial):\n",
    "    # задаем пространства поиска гиперпараметров\n",
    "    n_estimators = trial.suggest_int('n_estimators', 100, 500, 5)\n",
    "    criterion = trial.suggest_categorical('criterion', ['gini', 'entropy'])\n",
    "    min_samples_leaf = trial.suggest_int('min_samples_leaf', 1, 5, 1)\n",
    "    max_depth = trial.suggest_int('max_depth', 25, 100, 5)  \n",
    "\n",
    "    # создаем модель\n",
    "    model = ensemble.RandomForestClassifier(n_estimators=n_estimators,\n",
    "                                            criterion=criterion,\n",
    "                                            min_samples_leaf=min_samples_leaf,\n",
    "                                            max_depth=max_depth,\n",
    "                                            random_state=42)\n",
    "    # обучаем модель с кросс-валидацией \n",
    "    score = cross_val_score(model, X, y, cv=5, scoring='f1', n_jobs=-1).mean()\n",
    "    return score"
   ]
  },
  {
   "cell_type": "code",
   "execution_count": 87,
   "metadata": {},
   "outputs": [
    {
     "name": "stderr",
     "output_type": "stream",
     "text": [
      "[I 2023-06-20 22:44:35,451] A new study created in memory with name: RandomForestClassifier\n",
      "[I 2023-06-20 22:44:39,583] Trial 0 finished with value: 0.8159228880414557 and parameters: {'n_estimators': 300, 'criterion': 'entropy', 'min_samples_leaf': 2, 'max_depth': 60}. Best is trial 0 with value: 0.8159228880414557.\n",
      "[I 2023-06-20 22:44:44,872] Trial 1 finished with value: 0.8150821429303138 and parameters: {'n_estimators': 415, 'criterion': 'entropy', 'min_samples_leaf': 3, 'max_depth': 35}. Best is trial 0 with value: 0.8159228880414557.\n",
      "[I 2023-06-20 22:44:48,295] Trial 2 finished with value: 0.8096703065208208 and parameters: {'n_estimators': 305, 'criterion': 'gini', 'min_samples_leaf': 4, 'max_depth': 70}. Best is trial 0 with value: 0.8159228880414557.\n",
      "[I 2023-06-20 22:44:52,866] Trial 3 finished with value: 0.8142532077943351 and parameters: {'n_estimators': 370, 'criterion': 'entropy', 'min_samples_leaf': 4, 'max_depth': 30}. Best is trial 0 with value: 0.8159228880414557.\n",
      "[I 2023-06-20 22:44:56,247] Trial 4 finished with value: 0.8137625889291726 and parameters: {'n_estimators': 220, 'criterion': 'gini', 'min_samples_leaf': 1, 'max_depth': 95}. Best is trial 0 with value: 0.8159228880414557.\n",
      "[I 2023-06-20 22:45:01,496] Trial 5 finished with value: 0.8142069678750555 and parameters: {'n_estimators': 390, 'criterion': 'gini', 'min_samples_leaf': 1, 'max_depth': 30}. Best is trial 0 with value: 0.8159228880414557.\n",
      "[I 2023-06-20 22:45:05,923] Trial 6 finished with value: 0.8134293708638761 and parameters: {'n_estimators': 360, 'criterion': 'entropy', 'min_samples_leaf': 4, 'max_depth': 95}. Best is trial 0 with value: 0.8159228880414557.\n",
      "[I 2023-06-20 22:45:11,634] Trial 7 finished with value: 0.8147071319395179 and parameters: {'n_estimators': 430, 'criterion': 'gini', 'min_samples_leaf': 1, 'max_depth': 80}. Best is trial 0 with value: 0.8159228880414557.\n",
      "[I 2023-06-20 22:45:15,577] Trial 8 finished with value: 0.8094082903927102 and parameters: {'n_estimators': 370, 'criterion': 'gini', 'min_samples_leaf': 5, 'max_depth': 90}. Best is trial 0 with value: 0.8159228880414557.\n",
      "[I 2023-06-20 22:45:20,495] Trial 9 finished with value: 0.8151941921069698 and parameters: {'n_estimators': 380, 'criterion': 'gini', 'min_samples_leaf': 1, 'max_depth': 70}. Best is trial 0 with value: 0.8159228880414557.\n",
      "[I 2023-06-20 22:45:22,308] Trial 10 finished with value: 0.8153017982956013 and parameters: {'n_estimators': 125, 'criterion': 'entropy', 'min_samples_leaf': 2, 'max_depth': 50}. Best is trial 0 with value: 0.8159228880414557.\n",
      "[I 2023-06-20 22:45:23,849] Trial 11 finished with value: 0.8108569901836485 and parameters: {'n_estimators': 100, 'criterion': 'entropy', 'min_samples_leaf': 2, 'max_depth': 50}. Best is trial 0 with value: 0.8159228880414557.\n",
      "[I 2023-06-20 22:45:26,367] Trial 12 finished with value: 0.8145667313530547 and parameters: {'n_estimators': 170, 'criterion': 'entropy', 'min_samples_leaf': 2, 'max_depth': 50}. Best is trial 0 with value: 0.8159228880414557.\n",
      "[I 2023-06-20 22:45:33,158] Trial 13 finished with value: 0.817131768184303 and parameters: {'n_estimators': 500, 'criterion': 'entropy', 'min_samples_leaf': 2, 'max_depth': 50}. Best is trial 13 with value: 0.817131768184303.\n",
      "[I 2023-06-20 22:45:36,666] Trial 14 finished with value: 0.8143008420757664 and parameters: {'n_estimators': 270, 'criterion': 'entropy', 'min_samples_leaf': 3, 'max_depth': 60}. Best is trial 13 with value: 0.817131768184303.\n",
      "[I 2023-06-20 22:45:43,093] Trial 15 finished with value: 0.8187023289282676 and parameters: {'n_estimators': 485, 'criterion': 'entropy', 'min_samples_leaf': 2, 'max_depth': 40}. Best is trial 15 with value: 0.8187023289282676.\n",
      "[I 2023-06-20 22:45:49,302] Trial 16 finished with value: 0.812855326542404 and parameters: {'n_estimators': 490, 'criterion': 'entropy', 'min_samples_leaf': 3, 'max_depth': 40}. Best is trial 15 with value: 0.8187023289282676.\n",
      "[I 2023-06-20 22:45:56,547] Trial 17 finished with value: 0.817131768184303 and parameters: {'n_estimators': 500, 'criterion': 'entropy', 'min_samples_leaf': 2, 'max_depth': 40}. Best is trial 15 with value: 0.8187023289282676.\n",
      "[I 2023-06-20 22:46:02,502] Trial 18 finished with value: 0.8154368707469887 and parameters: {'n_estimators': 450, 'criterion': 'entropy', 'min_samples_leaf': 3, 'max_depth': 25}. Best is trial 15 with value: 0.8187023289282676.\n",
      "[I 2023-06-20 22:46:09,003] Trial 19 finished with value: 0.816965912298065 and parameters: {'n_estimators': 465, 'criterion': 'entropy', 'min_samples_leaf': 2, 'max_depth': 45}. Best is trial 15 with value: 0.8187023289282676.\n"
     ]
    },
    {
     "name": "stdout",
     "output_type": "stream",
     "text": [
      "Наилучшие значения гиперпараметров {'n_estimators': 485, 'criterion': 'entropy', 'min_samples_leaf': 2, 'max_depth': 40}\n",
      "CPU times: user 408 ms, sys: 359 ms, total: 767 ms\n",
      "Wall time: 1min 33s\n"
     ]
    }
   ],
   "source": [
    "%%time\n",
    "# cоздаем объект исследования\n",
    "study_rf = optuna.create_study(study_name=\"RandomForestClassifier\", direction=\"maximize\")\n",
    "\n",
    "# ищем лучшую комбинацию гиперпараметров n_trials раз\n",
    "study_rf.optimize(optuna_rf, n_trials=20)\n",
    "\n",
    "# выводим результаты на обучающей выборке\n",
    "print(\"Наилучшие значения гиперпараметров {}\".format(study_rf.best_params))"
   ]
  },
  {
   "cell_type": "code",
   "execution_count": 88,
   "metadata": {},
   "outputs": [
    {
     "name": "stdout",
     "output_type": "stream",
     "text": [
      "f1_score на тестовом наборе для модели случайного леса: 0.82\n"
     ]
    }
   ],
   "source": [
    "# рассчитаем точность для тестовой выборки\n",
    "model_rf_opt = ensemble.RandomForestClassifier(**study_rf.best_params, random_state=42)\n",
    "model_rf_opt.fit(X_train, y_train)\n",
    "\n",
    "# делаем предсказание и рассчитываем метрику\n",
    "y_test_pred_rf_opt = model_rf_opt.predict(X_test)\n",
    "print('f1_score на тестовом наборе для модели случайного леса: {:.2f}'.format(metrics.f1_score(y_test, y_test_pred_rf_opt)))"
   ]
  },
  {
   "attachments": {},
   "cell_type": "markdown",
   "metadata": {},
   "source": [
    "### Результат для способа подбора параметров Optuna\n",
    " Для модели логистической регрессии значение метрики f1-score - 0.75 , время подбора параметров составило: около 7 минут. Для модели случайного леса значение метрики f1-score - 0.82 , время подбора параметров составило: полторы минуты."
   ]
  },
  {
   "attachments": {},
   "cell_type": "markdown",
   "metadata": {},
   "source": [
    "### Выводы\n",
    "1. Время работы сильно зависист от скорости обучения модели что в свою очередь зависит от заданных в сетке поиска параметров. К примеру, для модели логистической регрессии из-за выбранных параметров регуляризации пришлось задать количество итераций на сходимость - 5000, иначе при некоторых сочетаниях параметров модель не сходилась. Это очень сильно увеличило время подбора параметров.\n",
    "2. Во всех попытках подбора кроме двух метрика осталась прежней, можно предположить, что данные хорошо подготовлены поэтому модель с базовыми настройками дает хороший результат. Исключение составляет подбор параметров способом GridSearchCV и Hyperopt для модели случайного леса, где метрика снизилась относительно базовой модели. Попытки увеличить количество итераций (до 150) не дали результата. Возможно это связано с особенностями алгоритма поиска и заданым пространством параметров. Алгоритм просто не успел найти лучшее сочетание.\n",
    "3. Что касается времени работы, то оно оказалось сопоставимым для всех способов. Возможно дело в том, что для последних двух способов также использовалась кросс-валидация.\n",
    "4. Интересная особенность при задании диапзона параметра С, для модели логистической регрессии, в виде диапазона от 0.01 до 1 с шагом 0.1, в способе Optuna выскакивало предупреждение, что диапазон не делится ровно на шаг и будет заменен на диапазон от 0.01 до 0.91. При этом время подбора параметров составляло для Optuna - 36 с лишним минут, а для Hyperopt - 25 минут. Лучшее значение параметра С в обоих случаях представляло число с большим количеством знаков после запятой. Изменение шага на 0.01 позволило сократить время подбора параметров для Optuna до 7 минут, а для Hyperopt до 16 минут. Однако лучшее значение параметра С для Hyperopt все равно имеет вид 0.47000000000000003. Возможно параметр q, определяющий шаг в hp.quniform(label, low, high, q), плохо работает с дробными значениями. Что касается Optuna - периодический, все равно, при подборе параметров появляются значения с большим количеством знаков после запятой. Возможно такие неточности возникают из-за использования дробного шага. Формула последовательности в документации выглядит так - low, low + q, low + 2q, ..., low + kq <= high. Соответственно при дробном шаге происходит умножение на номер текущей итерации (k), что иногда приводит к появлению таких аномальных значений.\n",
    "5. В целом рассмотренные способы сильно зависят от заданного пространства поиска параметров. Слишком большое пространство даже с продвинутыми способами оптимизации могут занять много времени. Поэтому  стоит предварительно сократить пространство поиска, исключив объективно проигрышные комбинации."
   ]
  }
 ],
 "metadata": {
  "kernelspec": {
   "display_name": "Python 3",
   "language": "python",
   "name": "python3"
  },
  "language_info": {
   "codemirror_mode": {
    "name": "ipython",
    "version": 3
   },
   "file_extension": ".py",
   "mimetype": "text/x-python",
   "name": "python",
   "nbconvert_exporter": "python",
   "pygments_lexer": "ipython3",
   "version": "3.11.2"
  },
  "orig_nbformat": 4
 },
 "nbformat": 4,
 "nbformat_minor": 2
}
