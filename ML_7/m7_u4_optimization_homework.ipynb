{
 "cells": [
  {
   "attachments": {},
   "cell_type": "markdown",
   "metadata": {},
   "source": [
    "# <center> ML-7. Прогнозирование биологического ответа (HW-3) </center>"
   ]
  },
  {
   "attachments": {},
   "cell_type": "markdown",
   "metadata": {},
   "source": [
    "### Условия задания\n",
    "Необходимо обучить две модели: логистическую регрессию и случайный лес. Далее нужно сделать подбор гиперпараметров с помощью базовых и продвинутых методов оптимизации. Важно использовать все четыре метода (GridSeachCV, RandomizedSearchCV, Hyperopt, Optuna) хотя бы по разу, максимальное количество итераций не должно превышать 50.            \n",
    "Предварительная обработка не требуется, данные уже закодированы и нормализованы.           \n",
    "В качестве метрики будем использовать F1-score."
   ]
  },
  {
   "cell_type": "code",
   "execution_count": 16,
   "metadata": {},
   "outputs": [],
   "source": [
    "# Импортируем библиотеки\n",
    "import numpy as np #для матричных вычислений\n",
    "import pandas as pd #для анализа и предобработки данных\n",
    "from sklearn import linear_model #линейные моделиё\n",
    "from sklearn import ensemble #ансамбли\n",
    "from sklearn import metrics #метрики\n",
    "from sklearn.model_selection import train_test_split #сплитование выборки\n",
    "from sklearn import model_selection\n",
    "from sklearn.model_selection import GridSearchCV\n",
    "from sklearn.model_selection import RandomizedSearchCV\n",
    "from sklearn.model_selection import cross_val_score\n",
    "import hyperopt\n",
    "from hyperopt import hp, fmin, tpe, Trials\n",
    "import optuna"
   ]
  },
  {
   "cell_type": "code",
   "execution_count": 17,
   "metadata": {},
   "outputs": [
    {
     "data": {
      "text/html": [
       "<div>\n",
       "<style scoped>\n",
       "    .dataframe tbody tr th:only-of-type {\n",
       "        vertical-align: middle;\n",
       "    }\n",
       "\n",
       "    .dataframe tbody tr th {\n",
       "        vertical-align: top;\n",
       "    }\n",
       "\n",
       "    .dataframe thead th {\n",
       "        text-align: right;\n",
       "    }\n",
       "</style>\n",
       "<table border=\"1\" class=\"dataframe\">\n",
       "  <thead>\n",
       "    <tr style=\"text-align: right;\">\n",
       "      <th></th>\n",
       "      <th>Activity</th>\n",
       "      <th>D1</th>\n",
       "      <th>D2</th>\n",
       "      <th>D3</th>\n",
       "      <th>D4</th>\n",
       "      <th>D5</th>\n",
       "      <th>D6</th>\n",
       "      <th>D7</th>\n",
       "      <th>D8</th>\n",
       "      <th>D9</th>\n",
       "      <th>...</th>\n",
       "      <th>D1767</th>\n",
       "      <th>D1768</th>\n",
       "      <th>D1769</th>\n",
       "      <th>D1770</th>\n",
       "      <th>D1771</th>\n",
       "      <th>D1772</th>\n",
       "      <th>D1773</th>\n",
       "      <th>D1774</th>\n",
       "      <th>D1775</th>\n",
       "      <th>D1776</th>\n",
       "    </tr>\n",
       "  </thead>\n",
       "  <tbody>\n",
       "    <tr>\n",
       "      <th>0</th>\n",
       "      <td>1</td>\n",
       "      <td>0.000000</td>\n",
       "      <td>0.497009</td>\n",
       "      <td>0.10</td>\n",
       "      <td>0.0</td>\n",
       "      <td>0.132956</td>\n",
       "      <td>0.678031</td>\n",
       "      <td>0.273166</td>\n",
       "      <td>0.585445</td>\n",
       "      <td>0.743663</td>\n",
       "      <td>...</td>\n",
       "      <td>0</td>\n",
       "      <td>0</td>\n",
       "      <td>0</td>\n",
       "      <td>0</td>\n",
       "      <td>0</td>\n",
       "      <td>0</td>\n",
       "      <td>0</td>\n",
       "      <td>0</td>\n",
       "      <td>0</td>\n",
       "      <td>0</td>\n",
       "    </tr>\n",
       "    <tr>\n",
       "      <th>1</th>\n",
       "      <td>1</td>\n",
       "      <td>0.366667</td>\n",
       "      <td>0.606291</td>\n",
       "      <td>0.05</td>\n",
       "      <td>0.0</td>\n",
       "      <td>0.111209</td>\n",
       "      <td>0.803455</td>\n",
       "      <td>0.106105</td>\n",
       "      <td>0.411754</td>\n",
       "      <td>0.836582</td>\n",
       "      <td>...</td>\n",
       "      <td>1</td>\n",
       "      <td>1</td>\n",
       "      <td>1</td>\n",
       "      <td>1</td>\n",
       "      <td>0</td>\n",
       "      <td>1</td>\n",
       "      <td>0</td>\n",
       "      <td>0</td>\n",
       "      <td>1</td>\n",
       "      <td>0</td>\n",
       "    </tr>\n",
       "    <tr>\n",
       "      <th>2</th>\n",
       "      <td>1</td>\n",
       "      <td>0.033300</td>\n",
       "      <td>0.480124</td>\n",
       "      <td>0.00</td>\n",
       "      <td>0.0</td>\n",
       "      <td>0.209791</td>\n",
       "      <td>0.610350</td>\n",
       "      <td>0.356453</td>\n",
       "      <td>0.517720</td>\n",
       "      <td>0.679051</td>\n",
       "      <td>...</td>\n",
       "      <td>0</td>\n",
       "      <td>0</td>\n",
       "      <td>0</td>\n",
       "      <td>0</td>\n",
       "      <td>0</td>\n",
       "      <td>0</td>\n",
       "      <td>0</td>\n",
       "      <td>0</td>\n",
       "      <td>0</td>\n",
       "      <td>0</td>\n",
       "    </tr>\n",
       "    <tr>\n",
       "      <th>3</th>\n",
       "      <td>1</td>\n",
       "      <td>0.000000</td>\n",
       "      <td>0.538825</td>\n",
       "      <td>0.00</td>\n",
       "      <td>0.5</td>\n",
       "      <td>0.196344</td>\n",
       "      <td>0.724230</td>\n",
       "      <td>0.235606</td>\n",
       "      <td>0.288764</td>\n",
       "      <td>0.805110</td>\n",
       "      <td>...</td>\n",
       "      <td>0</td>\n",
       "      <td>0</td>\n",
       "      <td>0</td>\n",
       "      <td>0</td>\n",
       "      <td>0</td>\n",
       "      <td>0</td>\n",
       "      <td>0</td>\n",
       "      <td>0</td>\n",
       "      <td>0</td>\n",
       "      <td>0</td>\n",
       "    </tr>\n",
       "    <tr>\n",
       "      <th>4</th>\n",
       "      <td>0</td>\n",
       "      <td>0.100000</td>\n",
       "      <td>0.517794</td>\n",
       "      <td>0.00</td>\n",
       "      <td>0.0</td>\n",
       "      <td>0.494734</td>\n",
       "      <td>0.781422</td>\n",
       "      <td>0.154361</td>\n",
       "      <td>0.303809</td>\n",
       "      <td>0.812646</td>\n",
       "      <td>...</td>\n",
       "      <td>0</td>\n",
       "      <td>0</td>\n",
       "      <td>0</td>\n",
       "      <td>0</td>\n",
       "      <td>0</td>\n",
       "      <td>0</td>\n",
       "      <td>0</td>\n",
       "      <td>0</td>\n",
       "      <td>0</td>\n",
       "      <td>0</td>\n",
       "    </tr>\n",
       "  </tbody>\n",
       "</table>\n",
       "<p>5 rows × 1777 columns</p>\n",
       "</div>"
      ],
      "text/plain": [
       "   Activity        D1        D2    D3   D4        D5        D6        D7   \n",
       "0         1  0.000000  0.497009  0.10  0.0  0.132956  0.678031  0.273166  \\\n",
       "1         1  0.366667  0.606291  0.05  0.0  0.111209  0.803455  0.106105   \n",
       "2         1  0.033300  0.480124  0.00  0.0  0.209791  0.610350  0.356453   \n",
       "3         1  0.000000  0.538825  0.00  0.5  0.196344  0.724230  0.235606   \n",
       "4         0  0.100000  0.517794  0.00  0.0  0.494734  0.781422  0.154361   \n",
       "\n",
       "         D8        D9  ...  D1767  D1768  D1769  D1770  D1771  D1772  D1773   \n",
       "0  0.585445  0.743663  ...      0      0      0      0      0      0      0  \\\n",
       "1  0.411754  0.836582  ...      1      1      1      1      0      1      0   \n",
       "2  0.517720  0.679051  ...      0      0      0      0      0      0      0   \n",
       "3  0.288764  0.805110  ...      0      0      0      0      0      0      0   \n",
       "4  0.303809  0.812646  ...      0      0      0      0      0      0      0   \n",
       "\n",
       "   D1774  D1775  D1776  \n",
       "0      0      0      0  \n",
       "1      0      1      0  \n",
       "2      0      0      0  \n",
       "3      0      0      0  \n",
       "4      0      0      0  \n",
       "\n",
       "[5 rows x 1777 columns]"
      ]
     },
     "execution_count": 17,
     "metadata": {},
     "output_type": "execute_result"
    }
   ],
   "source": [
    "# Загружаем данные\n",
    "data = pd.read_csv('../data/_train_sem09__1_.zip', compression='zip')\n",
    "data.head()"
   ]
  },
  {
   "cell_type": "code",
   "execution_count": 18,
   "metadata": {},
   "outputs": [],
   "source": [
    "# Выделяем матрицу наблюдений и столбец с правильными ответами\n",
    "X = data.drop(['Activity'], axis=1)\n",
    "y = data['Activity']\n",
    "\n",
    "# Делим данные на обучающую и тестовую выборки\n",
    "X_train, X_test, y_train, y_test = train_test_split(X, y, test_size=20, random_state=42)"
   ]
  },
  {
   "cell_type": "code",
   "execution_count": 19,
   "metadata": {},
   "outputs": [
    {
     "name": "stdout",
     "output_type": "stream",
     "text": [
      "Значение метрики f1-score для модели логистической регрессии: 0.75\n"
     ]
    }
   ],
   "source": [
    "# Создаем и обучаем модель логистической регрессии\n",
    "model_lr1 = linear_model.LogisticRegression(max_iter=1000, random_state=42)\n",
    "model_lr1.fit(X_train,y_train)\n",
    "\n",
    "# Делаем предсказание и считаем метрику\n",
    "y_test_pred = model_lr1.predict(X_test)\n",
    "print(f'Значение метрики f1-score для модели логистической регрессии: {round(metrics.f1_score(y_test, y_test_pred),2)}')"
   ]
  },
  {
   "cell_type": "code",
   "execution_count": 20,
   "metadata": {},
   "outputs": [
    {
     "name": "stdout",
     "output_type": "stream",
     "text": [
      "Значение метрики f1-score для модели случайного леса: 0.82\n"
     ]
    }
   ],
   "source": [
    "# Создаем и обучаем модель случайного леса\n",
    "model_rf1 = ensemble.RandomForestClassifier(random_state=42,)\n",
    "model_rf1.fit(X_train,y_train)\n",
    "\n",
    "# Делаем предсказание и считаем метрику\n",
    "y_test_pred = model_rf1.predict(X_test)\n",
    "print(f'Значение метрики f1-score для модели случайного леса: {round(metrics.f1_score(y_test, y_test_pred),2)}')"
   ]
  },
  {
   "attachments": {},
   "cell_type": "markdown",
   "metadata": {},
   "source": [
    "# <center> GridSearchCV </center>"
   ]
  },
  {
   "attachments": {},
   "cell_type": "markdown",
   "metadata": {},
   "source": [
    "### Логистическая регрессия"
   ]
  },
  {
   "cell_type": "code",
   "execution_count": 21,
   "metadata": {},
   "outputs": [
    {
     "name": "stdout",
     "output_type": "stream",
     "text": [
      "CPU times: user 1min 43s, sys: 104 ms, total: 1min 43s\n",
      "Wall time: 7min 53s\n"
     ]
    },
    {
     "data": {
      "text/html": [
       "<style>#sk-container-id-2 {color: black;background-color: white;}#sk-container-id-2 pre{padding: 0;}#sk-container-id-2 div.sk-toggleable {background-color: white;}#sk-container-id-2 label.sk-toggleable__label {cursor: pointer;display: block;width: 100%;margin-bottom: 0;padding: 0.3em;box-sizing: border-box;text-align: center;}#sk-container-id-2 label.sk-toggleable__label-arrow:before {content: \"▸\";float: left;margin-right: 0.25em;color: #696969;}#sk-container-id-2 label.sk-toggleable__label-arrow:hover:before {color: black;}#sk-container-id-2 div.sk-estimator:hover label.sk-toggleable__label-arrow:before {color: black;}#sk-container-id-2 div.sk-toggleable__content {max-height: 0;max-width: 0;overflow: hidden;text-align: left;background-color: #f0f8ff;}#sk-container-id-2 div.sk-toggleable__content pre {margin: 0.2em;color: black;border-radius: 0.25em;background-color: #f0f8ff;}#sk-container-id-2 input.sk-toggleable__control:checked~div.sk-toggleable__content {max-height: 200px;max-width: 100%;overflow: auto;}#sk-container-id-2 input.sk-toggleable__control:checked~label.sk-toggleable__label-arrow:before {content: \"▾\";}#sk-container-id-2 div.sk-estimator input.sk-toggleable__control:checked~label.sk-toggleable__label {background-color: #d4ebff;}#sk-container-id-2 div.sk-label input.sk-toggleable__control:checked~label.sk-toggleable__label {background-color: #d4ebff;}#sk-container-id-2 input.sk-hidden--visually {border: 0;clip: rect(1px 1px 1px 1px);clip: rect(1px, 1px, 1px, 1px);height: 1px;margin: -1px;overflow: hidden;padding: 0;position: absolute;width: 1px;}#sk-container-id-2 div.sk-estimator {font-family: monospace;background-color: #f0f8ff;border: 1px dotted black;border-radius: 0.25em;box-sizing: border-box;margin-bottom: 0.5em;}#sk-container-id-2 div.sk-estimator:hover {background-color: #d4ebff;}#sk-container-id-2 div.sk-parallel-item::after {content: \"\";width: 100%;border-bottom: 1px solid gray;flex-grow: 1;}#sk-container-id-2 div.sk-label:hover label.sk-toggleable__label {background-color: #d4ebff;}#sk-container-id-2 div.sk-serial::before {content: \"\";position: absolute;border-left: 1px solid gray;box-sizing: border-box;top: 0;bottom: 0;left: 50%;z-index: 0;}#sk-container-id-2 div.sk-serial {display: flex;flex-direction: column;align-items: center;background-color: white;padding-right: 0.2em;padding-left: 0.2em;position: relative;}#sk-container-id-2 div.sk-item {position: relative;z-index: 1;}#sk-container-id-2 div.sk-parallel {display: flex;align-items: stretch;justify-content: center;background-color: white;position: relative;}#sk-container-id-2 div.sk-item::before, #sk-container-id-2 div.sk-parallel-item::before {content: \"\";position: absolute;border-left: 1px solid gray;box-sizing: border-box;top: 0;bottom: 0;left: 50%;z-index: -1;}#sk-container-id-2 div.sk-parallel-item {display: flex;flex-direction: column;z-index: 1;position: relative;background-color: white;}#sk-container-id-2 div.sk-parallel-item:first-child::after {align-self: flex-end;width: 50%;}#sk-container-id-2 div.sk-parallel-item:last-child::after {align-self: flex-start;width: 50%;}#sk-container-id-2 div.sk-parallel-item:only-child::after {width: 0;}#sk-container-id-2 div.sk-dashed-wrapped {border: 1px dashed gray;margin: 0 0.4em 0.5em 0.4em;box-sizing: border-box;padding-bottom: 0.4em;background-color: white;}#sk-container-id-2 div.sk-label label {font-family: monospace;font-weight: bold;display: inline-block;line-height: 1.2em;}#sk-container-id-2 div.sk-label-container {text-align: center;}#sk-container-id-2 div.sk-container {/* jupyter's `normalize.less` sets `[hidden] { display: none; }` but bootstrap.min.css set `[hidden] { display: none !important; }` so we also need the `!important` here to be able to override the default hidden behavior on the sphinx rendered scikit-learn.org. See: https://github.com/scikit-learn/scikit-learn/issues/21755 */display: inline-block !important;position: relative;}#sk-container-id-2 div.sk-text-repr-fallback {display: none;}</style><div id=\"sk-container-id-2\" class=\"sk-top-container\"><div class=\"sk-text-repr-fallback\"><pre>GridSearchCV(cv=5, estimator=LogisticRegression(max_iter=5000, random_state=42),\n",
       "             n_jobs=-1,\n",
       "             param_grid=[{&#x27;C&#x27;: [0.01, 0.3, 0.5, 0.7, 0.9],\n",
       "                          &#x27;penalty&#x27;: [&#x27;l1&#x27;, &#x27;l2&#x27;],\n",
       "                          &#x27;solver&#x27;: [&#x27;liblinear&#x27;, &#x27;saga&#x27;]}],\n",
       "             scoring=&#x27;f1&#x27;)</pre><b>In a Jupyter environment, please rerun this cell to show the HTML representation or trust the notebook. <br />On GitHub, the HTML representation is unable to render, please try loading this page with nbviewer.org.</b></div><div class=\"sk-container\" hidden><div class=\"sk-item sk-dashed-wrapped\"><div class=\"sk-label-container\"><div class=\"sk-label sk-toggleable\"><input class=\"sk-toggleable__control sk-hidden--visually\" id=\"sk-estimator-id-4\" type=\"checkbox\" ><label for=\"sk-estimator-id-4\" class=\"sk-toggleable__label sk-toggleable__label-arrow\">GridSearchCV</label><div class=\"sk-toggleable__content\"><pre>GridSearchCV(cv=5, estimator=LogisticRegression(max_iter=5000, random_state=42),\n",
       "             n_jobs=-1,\n",
       "             param_grid=[{&#x27;C&#x27;: [0.01, 0.3, 0.5, 0.7, 0.9],\n",
       "                          &#x27;penalty&#x27;: [&#x27;l1&#x27;, &#x27;l2&#x27;],\n",
       "                          &#x27;solver&#x27;: [&#x27;liblinear&#x27;, &#x27;saga&#x27;]}],\n",
       "             scoring=&#x27;f1&#x27;)</pre></div></div></div><div class=\"sk-parallel\"><div class=\"sk-parallel-item\"><div class=\"sk-item\"><div class=\"sk-label-container\"><div class=\"sk-label sk-toggleable\"><input class=\"sk-toggleable__control sk-hidden--visually\" id=\"sk-estimator-id-5\" type=\"checkbox\" ><label for=\"sk-estimator-id-5\" class=\"sk-toggleable__label sk-toggleable__label-arrow\">estimator: LogisticRegression</label><div class=\"sk-toggleable__content\"><pre>LogisticRegression(max_iter=5000, random_state=42)</pre></div></div></div><div class=\"sk-serial\"><div class=\"sk-item\"><div class=\"sk-estimator sk-toggleable\"><input class=\"sk-toggleable__control sk-hidden--visually\" id=\"sk-estimator-id-6\" type=\"checkbox\" ><label for=\"sk-estimator-id-6\" class=\"sk-toggleable__label sk-toggleable__label-arrow\">LogisticRegression</label><div class=\"sk-toggleable__content\"><pre>LogisticRegression(max_iter=5000, random_state=42)</pre></div></div></div></div></div></div></div></div></div></div>"
      ],
      "text/plain": [
       "GridSearchCV(cv=5, estimator=LogisticRegression(max_iter=5000, random_state=42),\n",
       "             n_jobs=-1,\n",
       "             param_grid=[{'C': [0.01, 0.3, 0.5, 0.7, 0.9],\n",
       "                          'penalty': ['l1', 'l2'],\n",
       "                          'solver': ['liblinear', 'saga']}],\n",
       "             scoring='f1')"
      ]
     },
     "execution_count": 21,
     "metadata": {},
     "output_type": "execute_result"
    }
   ],
   "source": [
    "# Задаем сетку гиперпараметров для логистической регрессии\n",
    "param_grid = [{'penalty':['l1', 'l2'],\n",
    "               'solver':['liblinear', 'saga'],\n",
    "               'C':[0.01, 0.3, 0.5, 0.7, 0.9]\n",
    "               }\n",
    "              ]\n",
    "\n",
    "# Создаем объект класса GridSearchCV для модели логистической регрессии\n",
    "grid_search_lr = GridSearchCV(estimator=linear_model.LogisticRegression(max_iter=5000,\n",
    "                                                                        random_state=42\n",
    "                                                                        ),\n",
    "                              param_grid=param_grid,\n",
    "                              cv=5,\n",
    "                              n_jobs=-1,\n",
    "                              scoring='f1'\n",
    "                              )\n",
    "\n",
    "# Производим подбор гиперпараметров\n",
    "%time grid_search_lr.fit(X_train, y_train)"
   ]
  },
  {
   "cell_type": "code",
   "execution_count": 22,
   "metadata": {},
   "outputs": [
    {
     "name": "stdout",
     "output_type": "stream",
     "text": [
      "Лучшая комбинация гиперпараметров: {'C': 0.5, 'penalty': 'l1', 'solver': 'saga'}\n",
      "Значение метрики f1-score на тестовой выборке для моделий логистической регрессии: 0.75\n"
     ]
    }
   ],
   "source": [
    "# Выведем лучшую комбинацию гиперпараметров и значение метрики на тестовой выборке\n",
    "print(f'Лучшая комбинация гиперпараметров: {grid_search_lr.best_params_}')\n",
    "print(f'Значение метрики f1-score на тестовой выборке для моделий логистической регрессии: {grid_search_lr.score(X_test, y_test)}')"
   ]
  },
  {
   "attachments": {},
   "cell_type": "markdown",
   "metadata": {},
   "source": [
    "### Случайный лес"
   ]
  },
  {
   "cell_type": "code",
   "execution_count": 110,
   "metadata": {},
   "outputs": [
    {
     "name": "stdout",
     "output_type": "stream",
     "text": [
      "CPU times: user 4.36 s, sys: 28.6 ms, total: 4.39 s\n",
      "Wall time: 51.1 s\n"
     ]
    },
    {
     "data": {
      "text/html": [
       "<style>#sk-container-id-8 {color: black;background-color: white;}#sk-container-id-8 pre{padding: 0;}#sk-container-id-8 div.sk-toggleable {background-color: white;}#sk-container-id-8 label.sk-toggleable__label {cursor: pointer;display: block;width: 100%;margin-bottom: 0;padding: 0.3em;box-sizing: border-box;text-align: center;}#sk-container-id-8 label.sk-toggleable__label-arrow:before {content: \"▸\";float: left;margin-right: 0.25em;color: #696969;}#sk-container-id-8 label.sk-toggleable__label-arrow:hover:before {color: black;}#sk-container-id-8 div.sk-estimator:hover label.sk-toggleable__label-arrow:before {color: black;}#sk-container-id-8 div.sk-toggleable__content {max-height: 0;max-width: 0;overflow: hidden;text-align: left;background-color: #f0f8ff;}#sk-container-id-8 div.sk-toggleable__content pre {margin: 0.2em;color: black;border-radius: 0.25em;background-color: #f0f8ff;}#sk-container-id-8 input.sk-toggleable__control:checked~div.sk-toggleable__content {max-height: 200px;max-width: 100%;overflow: auto;}#sk-container-id-8 input.sk-toggleable__control:checked~label.sk-toggleable__label-arrow:before {content: \"▾\";}#sk-container-id-8 div.sk-estimator input.sk-toggleable__control:checked~label.sk-toggleable__label {background-color: #d4ebff;}#sk-container-id-8 div.sk-label input.sk-toggleable__control:checked~label.sk-toggleable__label {background-color: #d4ebff;}#sk-container-id-8 input.sk-hidden--visually {border: 0;clip: rect(1px 1px 1px 1px);clip: rect(1px, 1px, 1px, 1px);height: 1px;margin: -1px;overflow: hidden;padding: 0;position: absolute;width: 1px;}#sk-container-id-8 div.sk-estimator {font-family: monospace;background-color: #f0f8ff;border: 1px dotted black;border-radius: 0.25em;box-sizing: border-box;margin-bottom: 0.5em;}#sk-container-id-8 div.sk-estimator:hover {background-color: #d4ebff;}#sk-container-id-8 div.sk-parallel-item::after {content: \"\";width: 100%;border-bottom: 1px solid gray;flex-grow: 1;}#sk-container-id-8 div.sk-label:hover label.sk-toggleable__label {background-color: #d4ebff;}#sk-container-id-8 div.sk-serial::before {content: \"\";position: absolute;border-left: 1px solid gray;box-sizing: border-box;top: 0;bottom: 0;left: 50%;z-index: 0;}#sk-container-id-8 div.sk-serial {display: flex;flex-direction: column;align-items: center;background-color: white;padding-right: 0.2em;padding-left: 0.2em;position: relative;}#sk-container-id-8 div.sk-item {position: relative;z-index: 1;}#sk-container-id-8 div.sk-parallel {display: flex;align-items: stretch;justify-content: center;background-color: white;position: relative;}#sk-container-id-8 div.sk-item::before, #sk-container-id-8 div.sk-parallel-item::before {content: \"\";position: absolute;border-left: 1px solid gray;box-sizing: border-box;top: 0;bottom: 0;left: 50%;z-index: -1;}#sk-container-id-8 div.sk-parallel-item {display: flex;flex-direction: column;z-index: 1;position: relative;background-color: white;}#sk-container-id-8 div.sk-parallel-item:first-child::after {align-self: flex-end;width: 50%;}#sk-container-id-8 div.sk-parallel-item:last-child::after {align-self: flex-start;width: 50%;}#sk-container-id-8 div.sk-parallel-item:only-child::after {width: 0;}#sk-container-id-8 div.sk-dashed-wrapped {border: 1px dashed gray;margin: 0 0.4em 0.5em 0.4em;box-sizing: border-box;padding-bottom: 0.4em;background-color: white;}#sk-container-id-8 div.sk-label label {font-family: monospace;font-weight: bold;display: inline-block;line-height: 1.2em;}#sk-container-id-8 div.sk-label-container {text-align: center;}#sk-container-id-8 div.sk-container {/* jupyter's `normalize.less` sets `[hidden] { display: none; }` but bootstrap.min.css set `[hidden] { display: none !important; }` so we also need the `!important` here to be able to override the default hidden behavior on the sphinx rendered scikit-learn.org. See: https://github.com/scikit-learn/scikit-learn/issues/21755 */display: inline-block !important;position: relative;}#sk-container-id-8 div.sk-text-repr-fallback {display: none;}</style><div id=\"sk-container-id-8\" class=\"sk-top-container\"><div class=\"sk-text-repr-fallback\"><pre>GridSearchCV(cv=5, estimator=RandomForestClassifier(random_state=42), n_jobs=-1,\n",
       "             param_grid=[{&#x27;criterion&#x27;: [&#x27;gini&#x27;, &#x27;entropy&#x27;],\n",
       "                          &#x27;max_depth&#x27;: [50, 100], &#x27;min_samples_leaf&#x27;: [1, 5, 7],\n",
       "                          &#x27;n_estimators&#x27;: [100, 200, 300]}],\n",
       "             scoring=&#x27;f1&#x27;)</pre><b>In a Jupyter environment, please rerun this cell to show the HTML representation or trust the notebook. <br />On GitHub, the HTML representation is unable to render, please try loading this page with nbviewer.org.</b></div><div class=\"sk-container\" hidden><div class=\"sk-item sk-dashed-wrapped\"><div class=\"sk-label-container\"><div class=\"sk-label sk-toggleable\"><input class=\"sk-toggleable__control sk-hidden--visually\" id=\"sk-estimator-id-22\" type=\"checkbox\" ><label for=\"sk-estimator-id-22\" class=\"sk-toggleable__label sk-toggleable__label-arrow\">GridSearchCV</label><div class=\"sk-toggleable__content\"><pre>GridSearchCV(cv=5, estimator=RandomForestClassifier(random_state=42), n_jobs=-1,\n",
       "             param_grid=[{&#x27;criterion&#x27;: [&#x27;gini&#x27;, &#x27;entropy&#x27;],\n",
       "                          &#x27;max_depth&#x27;: [50, 100], &#x27;min_samples_leaf&#x27;: [1, 5, 7],\n",
       "                          &#x27;n_estimators&#x27;: [100, 200, 300]}],\n",
       "             scoring=&#x27;f1&#x27;)</pre></div></div></div><div class=\"sk-parallel\"><div class=\"sk-parallel-item\"><div class=\"sk-item\"><div class=\"sk-label-container\"><div class=\"sk-label sk-toggleable\"><input class=\"sk-toggleable__control sk-hidden--visually\" id=\"sk-estimator-id-23\" type=\"checkbox\" ><label for=\"sk-estimator-id-23\" class=\"sk-toggleable__label sk-toggleable__label-arrow\">estimator: RandomForestClassifier</label><div class=\"sk-toggleable__content\"><pre>RandomForestClassifier(random_state=42)</pre></div></div></div><div class=\"sk-serial\"><div class=\"sk-item\"><div class=\"sk-estimator sk-toggleable\"><input class=\"sk-toggleable__control sk-hidden--visually\" id=\"sk-estimator-id-24\" type=\"checkbox\" ><label for=\"sk-estimator-id-24\" class=\"sk-toggleable__label sk-toggleable__label-arrow\">RandomForestClassifier</label><div class=\"sk-toggleable__content\"><pre>RandomForestClassifier(random_state=42)</pre></div></div></div></div></div></div></div></div></div></div>"
      ],
      "text/plain": [
       "GridSearchCV(cv=5, estimator=RandomForestClassifier(random_state=42), n_jobs=-1,\n",
       "             param_grid=[{'criterion': ['gini', 'entropy'],\n",
       "                          'max_depth': [50, 100], 'min_samples_leaf': [1, 5, 7],\n",
       "                          'n_estimators': [100, 200, 300]}],\n",
       "             scoring='f1')"
      ]
     },
     "execution_count": 110,
     "metadata": {},
     "output_type": "execute_result"
    }
   ],
   "source": [
    "# Задаем сетку гиперпараметров для случайного леса \n",
    "# параметры для поиска по сетке отличаются от других методов поиска \n",
    "# так как в задании введено ограничение - количество итераций не превышает 50\n",
    "param_grid_rf = [{'criterion':['gini', 'entropy'], \n",
    "                  'n_estimators':[100, 200, 300],\n",
    "                  'min_samples_leaf':[1,5,7],\n",
    "                  'max_depth':[50, 100]                  \n",
    "                  }\n",
    "                 ]\n",
    "\n",
    "# Создаем объект класса GridSearchCV для модели случайного леса\n",
    "grid_search_rf = GridSearchCV(estimator=ensemble.RandomForestClassifier(random_state=42),\n",
    "                              param_grid=param_grid_rf,\n",
    "                              cv=5,\n",
    "                              n_jobs=-1,\n",
    "                              scoring='f1'\n",
    "                              )\n",
    "\n",
    "# Производим подбор гиперпараметров\n",
    "%time grid_search_rf.fit(X_train, y_train)"
   ]
  },
  {
   "cell_type": "code",
   "execution_count": 111,
   "metadata": {},
   "outputs": [
    {
     "name": "stdout",
     "output_type": "stream",
     "text": [
      "Лучшая комбинация гиперпараметров: {'criterion': 'entropy', 'max_depth': 50, 'min_samples_leaf': 1, 'n_estimators': 300}\n",
      "значение метрики f1-score на тестовой выборке для модели случайного леса: 0.82\n"
     ]
    }
   ],
   "source": [
    "# Выведем лучшую комбинацию гиперпараметров и значение метрики на тестовой выборке\n",
    "print(f'Лучшая комбинация гиперпараметров: {grid_search_rf.best_params_}')\n",
    "print(f'значение метрики f1-score на тестовой выборке для модели случайного леса: {round(grid_search_rf.score(X_test, y_test),2)}')"
   ]
  },
  {
   "attachments": {},
   "cell_type": "markdown",
   "metadata": {},
   "source": [
    "### Результат для способа подбора параметров GridSearchCV\n",
    "Для модели логистической регрессии значение метрики f1-score - 0.75, время подбора параметров составило: 7 минут 53 секунды. Для модели случайного леса значение метрики f1-score - 0.82, время подбора параметров составило: 51 секунду. Метрику для обеих моделей улучшить не удалось."
   ]
  },
  {
   "attachments": {},
   "cell_type": "markdown",
   "metadata": {},
   "source": [
    "# <center> RandomizedSearchCV </center>"
   ]
  },
  {
   "attachments": {},
   "cell_type": "markdown",
   "metadata": {},
   "source": [
    "### Логистическая регрессия"
   ]
  },
  {
   "cell_type": "code",
   "execution_count": 25,
   "metadata": {},
   "outputs": [
    {
     "name": "stdout",
     "output_type": "stream",
     "text": [
      "CPU times: user 427 ms, sys: 42.3 ms, total: 470 ms\n",
      "Wall time: 6min 29s\n"
     ]
    },
    {
     "data": {
      "text/html": [
       "<style>#sk-container-id-4 {color: black;background-color: white;}#sk-container-id-4 pre{padding: 0;}#sk-container-id-4 div.sk-toggleable {background-color: white;}#sk-container-id-4 label.sk-toggleable__label {cursor: pointer;display: block;width: 100%;margin-bottom: 0;padding: 0.3em;box-sizing: border-box;text-align: center;}#sk-container-id-4 label.sk-toggleable__label-arrow:before {content: \"▸\";float: left;margin-right: 0.25em;color: #696969;}#sk-container-id-4 label.sk-toggleable__label-arrow:hover:before {color: black;}#sk-container-id-4 div.sk-estimator:hover label.sk-toggleable__label-arrow:before {color: black;}#sk-container-id-4 div.sk-toggleable__content {max-height: 0;max-width: 0;overflow: hidden;text-align: left;background-color: #f0f8ff;}#sk-container-id-4 div.sk-toggleable__content pre {margin: 0.2em;color: black;border-radius: 0.25em;background-color: #f0f8ff;}#sk-container-id-4 input.sk-toggleable__control:checked~div.sk-toggleable__content {max-height: 200px;max-width: 100%;overflow: auto;}#sk-container-id-4 input.sk-toggleable__control:checked~label.sk-toggleable__label-arrow:before {content: \"▾\";}#sk-container-id-4 div.sk-estimator input.sk-toggleable__control:checked~label.sk-toggleable__label {background-color: #d4ebff;}#sk-container-id-4 div.sk-label input.sk-toggleable__control:checked~label.sk-toggleable__label {background-color: #d4ebff;}#sk-container-id-4 input.sk-hidden--visually {border: 0;clip: rect(1px 1px 1px 1px);clip: rect(1px, 1px, 1px, 1px);height: 1px;margin: -1px;overflow: hidden;padding: 0;position: absolute;width: 1px;}#sk-container-id-4 div.sk-estimator {font-family: monospace;background-color: #f0f8ff;border: 1px dotted black;border-radius: 0.25em;box-sizing: border-box;margin-bottom: 0.5em;}#sk-container-id-4 div.sk-estimator:hover {background-color: #d4ebff;}#sk-container-id-4 div.sk-parallel-item::after {content: \"\";width: 100%;border-bottom: 1px solid gray;flex-grow: 1;}#sk-container-id-4 div.sk-label:hover label.sk-toggleable__label {background-color: #d4ebff;}#sk-container-id-4 div.sk-serial::before {content: \"\";position: absolute;border-left: 1px solid gray;box-sizing: border-box;top: 0;bottom: 0;left: 50%;z-index: 0;}#sk-container-id-4 div.sk-serial {display: flex;flex-direction: column;align-items: center;background-color: white;padding-right: 0.2em;padding-left: 0.2em;position: relative;}#sk-container-id-4 div.sk-item {position: relative;z-index: 1;}#sk-container-id-4 div.sk-parallel {display: flex;align-items: stretch;justify-content: center;background-color: white;position: relative;}#sk-container-id-4 div.sk-item::before, #sk-container-id-4 div.sk-parallel-item::before {content: \"\";position: absolute;border-left: 1px solid gray;box-sizing: border-box;top: 0;bottom: 0;left: 50%;z-index: -1;}#sk-container-id-4 div.sk-parallel-item {display: flex;flex-direction: column;z-index: 1;position: relative;background-color: white;}#sk-container-id-4 div.sk-parallel-item:first-child::after {align-self: flex-end;width: 50%;}#sk-container-id-4 div.sk-parallel-item:last-child::after {align-self: flex-start;width: 50%;}#sk-container-id-4 div.sk-parallel-item:only-child::after {width: 0;}#sk-container-id-4 div.sk-dashed-wrapped {border: 1px dashed gray;margin: 0 0.4em 0.5em 0.4em;box-sizing: border-box;padding-bottom: 0.4em;background-color: white;}#sk-container-id-4 div.sk-label label {font-family: monospace;font-weight: bold;display: inline-block;line-height: 1.2em;}#sk-container-id-4 div.sk-label-container {text-align: center;}#sk-container-id-4 div.sk-container {/* jupyter's `normalize.less` sets `[hidden] { display: none; }` but bootstrap.min.css set `[hidden] { display: none !important; }` so we also need the `!important` here to be able to override the default hidden behavior on the sphinx rendered scikit-learn.org. See: https://github.com/scikit-learn/scikit-learn/issues/21755 */display: inline-block !important;position: relative;}#sk-container-id-4 div.sk-text-repr-fallback {display: none;}</style><div id=\"sk-container-id-4\" class=\"sk-top-container\"><div class=\"sk-text-repr-fallback\"><pre>RandomizedSearchCV(cv=5,\n",
       "                   estimator=LogisticRegression(max_iter=5000, random_state=42),\n",
       "                   n_iter=20, n_jobs=-1,\n",
       "                   param_distributions=[{&#x27;C&#x27;: [0.01, 0.12, 0.23, 0.34, 0.45,\n",
       "                                               0.56, 0.67, 0.78, 0.89, 1.0],\n",
       "                                         &#x27;penalty&#x27;: [&#x27;l1&#x27;, &#x27;l2&#x27;],\n",
       "                                         &#x27;solver&#x27;: [&#x27;liblinear&#x27;, &#x27;saga&#x27;]}],\n",
       "                   scoring=&#x27;f1&#x27;)</pre><b>In a Jupyter environment, please rerun this cell to show the HTML representation or trust the notebook. <br />On GitHub, the HTML representation is unable to render, please try loading this page with nbviewer.org.</b></div><div class=\"sk-container\" hidden><div class=\"sk-item sk-dashed-wrapped\"><div class=\"sk-label-container\"><div class=\"sk-label sk-toggleable\"><input class=\"sk-toggleable__control sk-hidden--visually\" id=\"sk-estimator-id-10\" type=\"checkbox\" ><label for=\"sk-estimator-id-10\" class=\"sk-toggleable__label sk-toggleable__label-arrow\">RandomizedSearchCV</label><div class=\"sk-toggleable__content\"><pre>RandomizedSearchCV(cv=5,\n",
       "                   estimator=LogisticRegression(max_iter=5000, random_state=42),\n",
       "                   n_iter=20, n_jobs=-1,\n",
       "                   param_distributions=[{&#x27;C&#x27;: [0.01, 0.12, 0.23, 0.34, 0.45,\n",
       "                                               0.56, 0.67, 0.78, 0.89, 1.0],\n",
       "                                         &#x27;penalty&#x27;: [&#x27;l1&#x27;, &#x27;l2&#x27;],\n",
       "                                         &#x27;solver&#x27;: [&#x27;liblinear&#x27;, &#x27;saga&#x27;]}],\n",
       "                   scoring=&#x27;f1&#x27;)</pre></div></div></div><div class=\"sk-parallel\"><div class=\"sk-parallel-item\"><div class=\"sk-item\"><div class=\"sk-label-container\"><div class=\"sk-label sk-toggleable\"><input class=\"sk-toggleable__control sk-hidden--visually\" id=\"sk-estimator-id-11\" type=\"checkbox\" ><label for=\"sk-estimator-id-11\" class=\"sk-toggleable__label sk-toggleable__label-arrow\">estimator: LogisticRegression</label><div class=\"sk-toggleable__content\"><pre>LogisticRegression(max_iter=5000, random_state=42)</pre></div></div></div><div class=\"sk-serial\"><div class=\"sk-item\"><div class=\"sk-estimator sk-toggleable\"><input class=\"sk-toggleable__control sk-hidden--visually\" id=\"sk-estimator-id-12\" type=\"checkbox\" ><label for=\"sk-estimator-id-12\" class=\"sk-toggleable__label sk-toggleable__label-arrow\">LogisticRegression</label><div class=\"sk-toggleable__content\"><pre>LogisticRegression(max_iter=5000, random_state=42)</pre></div></div></div></div></div></div></div></div></div></div>"
      ],
      "text/plain": [
       "RandomizedSearchCV(cv=5,\n",
       "                   estimator=LogisticRegression(max_iter=5000, random_state=42),\n",
       "                   n_iter=20, n_jobs=-1,\n",
       "                   param_distributions=[{'C': [0.01, 0.12, 0.23, 0.34, 0.45,\n",
       "                                               0.56, 0.67, 0.78, 0.89, 1.0],\n",
       "                                         'penalty': ['l1', 'l2'],\n",
       "                                         'solver': ['liblinear', 'saga']}],\n",
       "                   scoring='f1')"
      ]
     },
     "execution_count": 25,
     "metadata": {},
     "output_type": "execute_result"
    }
   ],
   "source": [
    "# Задаем сетку гиперпараметров для логистической регрессии\n",
    "param_grid = [{'penalty':['l1', 'l2'],\n",
    "               'solver':['liblinear', 'saga'],\n",
    "               'C':list(np.linspace(0.01, 1, 10, dtype=float))\n",
    "               }\n",
    "              ]\n",
    "\n",
    "# Создаем объект класса RandomizedSearchCV для модели логистической регрессии\n",
    "random_search_lr = RandomizedSearchCV(estimator=linear_model.LogisticRegression(max_iter=5000,\n",
    "                                                                                random_state=42\n",
    "                                                                                ),\n",
    "                                      param_distributions=param_grid,\n",
    "                                      cv=5,\n",
    "                                      n_iter=20,\n",
    "                                      n_jobs=-1,\n",
    "                                      scoring='f1'\n",
    "                                      )\n",
    "\n",
    "# Производим подбор гиперпараметров\n",
    "%time random_search_lr.fit(X_train, y_train)"
   ]
  },
  {
   "cell_type": "code",
   "execution_count": 26,
   "metadata": {},
   "outputs": [
    {
     "name": "stdout",
     "output_type": "stream",
     "text": [
      "Лучшая комбинация гиперпараметров: {'solver': 'liblinear', 'penalty': 'l1', 'C': 0.34}\n",
      "Значение метрики f1-scoreна тестовой выборке для модели логистической регрессии: 0.75\n"
     ]
    }
   ],
   "source": [
    "# Выведем лучшую комбинацию гиперпараметров и значение метрики на тестовой выборке\n",
    "print(f'Лучшая комбинация гиперпараметров: {random_search_lr.best_params_}')\n",
    "print(f'Значение метрики f1-scoreна тестовой выборке для модели логистической регрессии: {random_search_lr.score(X_test, y_test)}')\n"
   ]
  },
  {
   "attachments": {},
   "cell_type": "markdown",
   "metadata": {},
   "source": [
    "### Случайный лес"
   ]
  },
  {
   "cell_type": "code",
   "execution_count": 107,
   "metadata": {},
   "outputs": [
    {
     "name": "stdout",
     "output_type": "stream",
     "text": [
      "CPU times: user 4.1 s, sys: 39.9 ms, total: 4.14 s\n",
      "Wall time: 35.5 s\n"
     ]
    },
    {
     "data": {
      "text/html": [
       "<style>#sk-container-id-6 {color: black;background-color: white;}#sk-container-id-6 pre{padding: 0;}#sk-container-id-6 div.sk-toggleable {background-color: white;}#sk-container-id-6 label.sk-toggleable__label {cursor: pointer;display: block;width: 100%;margin-bottom: 0;padding: 0.3em;box-sizing: border-box;text-align: center;}#sk-container-id-6 label.sk-toggleable__label-arrow:before {content: \"▸\";float: left;margin-right: 0.25em;color: #696969;}#sk-container-id-6 label.sk-toggleable__label-arrow:hover:before {color: black;}#sk-container-id-6 div.sk-estimator:hover label.sk-toggleable__label-arrow:before {color: black;}#sk-container-id-6 div.sk-toggleable__content {max-height: 0;max-width: 0;overflow: hidden;text-align: left;background-color: #f0f8ff;}#sk-container-id-6 div.sk-toggleable__content pre {margin: 0.2em;color: black;border-radius: 0.25em;background-color: #f0f8ff;}#sk-container-id-6 input.sk-toggleable__control:checked~div.sk-toggleable__content {max-height: 200px;max-width: 100%;overflow: auto;}#sk-container-id-6 input.sk-toggleable__control:checked~label.sk-toggleable__label-arrow:before {content: \"▾\";}#sk-container-id-6 div.sk-estimator input.sk-toggleable__control:checked~label.sk-toggleable__label {background-color: #d4ebff;}#sk-container-id-6 div.sk-label input.sk-toggleable__control:checked~label.sk-toggleable__label {background-color: #d4ebff;}#sk-container-id-6 input.sk-hidden--visually {border: 0;clip: rect(1px 1px 1px 1px);clip: rect(1px, 1px, 1px, 1px);height: 1px;margin: -1px;overflow: hidden;padding: 0;position: absolute;width: 1px;}#sk-container-id-6 div.sk-estimator {font-family: monospace;background-color: #f0f8ff;border: 1px dotted black;border-radius: 0.25em;box-sizing: border-box;margin-bottom: 0.5em;}#sk-container-id-6 div.sk-estimator:hover {background-color: #d4ebff;}#sk-container-id-6 div.sk-parallel-item::after {content: \"\";width: 100%;border-bottom: 1px solid gray;flex-grow: 1;}#sk-container-id-6 div.sk-label:hover label.sk-toggleable__label {background-color: #d4ebff;}#sk-container-id-6 div.sk-serial::before {content: \"\";position: absolute;border-left: 1px solid gray;box-sizing: border-box;top: 0;bottom: 0;left: 50%;z-index: 0;}#sk-container-id-6 div.sk-serial {display: flex;flex-direction: column;align-items: center;background-color: white;padding-right: 0.2em;padding-left: 0.2em;position: relative;}#sk-container-id-6 div.sk-item {position: relative;z-index: 1;}#sk-container-id-6 div.sk-parallel {display: flex;align-items: stretch;justify-content: center;background-color: white;position: relative;}#sk-container-id-6 div.sk-item::before, #sk-container-id-6 div.sk-parallel-item::before {content: \"\";position: absolute;border-left: 1px solid gray;box-sizing: border-box;top: 0;bottom: 0;left: 50%;z-index: -1;}#sk-container-id-6 div.sk-parallel-item {display: flex;flex-direction: column;z-index: 1;position: relative;background-color: white;}#sk-container-id-6 div.sk-parallel-item:first-child::after {align-self: flex-end;width: 50%;}#sk-container-id-6 div.sk-parallel-item:last-child::after {align-self: flex-start;width: 50%;}#sk-container-id-6 div.sk-parallel-item:only-child::after {width: 0;}#sk-container-id-6 div.sk-dashed-wrapped {border: 1px dashed gray;margin: 0 0.4em 0.5em 0.4em;box-sizing: border-box;padding-bottom: 0.4em;background-color: white;}#sk-container-id-6 div.sk-label label {font-family: monospace;font-weight: bold;display: inline-block;line-height: 1.2em;}#sk-container-id-6 div.sk-label-container {text-align: center;}#sk-container-id-6 div.sk-container {/* jupyter's `normalize.less` sets `[hidden] { display: none; }` but bootstrap.min.css set `[hidden] { display: none !important; }` so we also need the `!important` here to be able to override the default hidden behavior on the sphinx rendered scikit-learn.org. See: https://github.com/scikit-learn/scikit-learn/issues/21755 */display: inline-block !important;position: relative;}#sk-container-id-6 div.sk-text-repr-fallback {display: none;}</style><div id=\"sk-container-id-6\" class=\"sk-top-container\"><div class=\"sk-text-repr-fallback\"><pre>RandomizedSearchCV(cv=5, estimator=RandomForestClassifier(random_state=42),\n",
       "                   n_iter=20, n_jobs=-1,\n",
       "                   param_distributions=[{&#x27;criterion&#x27;: [&#x27;gini&#x27;, &#x27;entropy&#x27;],\n",
       "                                         &#x27;max_depth&#x27;: [25, 30, 35, 40, 45, 50,\n",
       "                                                       55, 60, 65, 70, 75, 80,\n",
       "                                                       85, 90, 95],\n",
       "                                         &#x27;min_samples_leaf&#x27;: [1, 2, 3, 4, 5],\n",
       "                                         &#x27;n_estimators&#x27;: [100, 150, 200, 250,\n",
       "                                                          300, 350, 400,\n",
       "                                                          450]}],\n",
       "                   scoring=&#x27;f1&#x27;)</pre><b>In a Jupyter environment, please rerun this cell to show the HTML representation or trust the notebook. <br />On GitHub, the HTML representation is unable to render, please try loading this page with nbviewer.org.</b></div><div class=\"sk-container\" hidden><div class=\"sk-item sk-dashed-wrapped\"><div class=\"sk-label-container\"><div class=\"sk-label sk-toggleable\"><input class=\"sk-toggleable__control sk-hidden--visually\" id=\"sk-estimator-id-16\" type=\"checkbox\" ><label for=\"sk-estimator-id-16\" class=\"sk-toggleable__label sk-toggleable__label-arrow\">RandomizedSearchCV</label><div class=\"sk-toggleable__content\"><pre>RandomizedSearchCV(cv=5, estimator=RandomForestClassifier(random_state=42),\n",
       "                   n_iter=20, n_jobs=-1,\n",
       "                   param_distributions=[{&#x27;criterion&#x27;: [&#x27;gini&#x27;, &#x27;entropy&#x27;],\n",
       "                                         &#x27;max_depth&#x27;: [25, 30, 35, 40, 45, 50,\n",
       "                                                       55, 60, 65, 70, 75, 80,\n",
       "                                                       85, 90, 95],\n",
       "                                         &#x27;min_samples_leaf&#x27;: [1, 2, 3, 4, 5],\n",
       "                                         &#x27;n_estimators&#x27;: [100, 150, 200, 250,\n",
       "                                                          300, 350, 400,\n",
       "                                                          450]}],\n",
       "                   scoring=&#x27;f1&#x27;)</pre></div></div></div><div class=\"sk-parallel\"><div class=\"sk-parallel-item\"><div class=\"sk-item\"><div class=\"sk-label-container\"><div class=\"sk-label sk-toggleable\"><input class=\"sk-toggleable__control sk-hidden--visually\" id=\"sk-estimator-id-17\" type=\"checkbox\" ><label for=\"sk-estimator-id-17\" class=\"sk-toggleable__label sk-toggleable__label-arrow\">estimator: RandomForestClassifier</label><div class=\"sk-toggleable__content\"><pre>RandomForestClassifier(random_state=42)</pre></div></div></div><div class=\"sk-serial\"><div class=\"sk-item\"><div class=\"sk-estimator sk-toggleable\"><input class=\"sk-toggleable__control sk-hidden--visually\" id=\"sk-estimator-id-18\" type=\"checkbox\" ><label for=\"sk-estimator-id-18\" class=\"sk-toggleable__label sk-toggleable__label-arrow\">RandomForestClassifier</label><div class=\"sk-toggleable__content\"><pre>RandomForestClassifier(random_state=42)</pre></div></div></div></div></div></div></div></div></div></div>"
      ],
      "text/plain": [
       "RandomizedSearchCV(cv=5, estimator=RandomForestClassifier(random_state=42),\n",
       "                   n_iter=20, n_jobs=-1,\n",
       "                   param_distributions=[{'criterion': ['gini', 'entropy'],\n",
       "                                         'max_depth': [25, 30, 35, 40, 45, 50,\n",
       "                                                       55, 60, 65, 70, 75, 80,\n",
       "                                                       85, 90, 95],\n",
       "                                         'min_samples_leaf': [1, 2, 3, 4, 5],\n",
       "                                         'n_estimators': [100, 150, 200, 250,\n",
       "                                                          300, 350, 400,\n",
       "                                                          450]}],\n",
       "                   scoring='f1')"
      ]
     },
     "execution_count": 107,
     "metadata": {},
     "output_type": "execute_result"
    }
   ],
   "source": [
    "# Задаем сетку гиперпараметров для случайного леса\n",
    "param_grid_rf = [{'criterion':['gini', 'entropy'], \n",
    "                  'n_estimators':list(range(100, 500, 50)),\n",
    "                  'min_samples_leaf':list(np.linspace(1, 5, 5, dtype=int)),\n",
    "                  'max_depth':list(range(25, 100, 5))                                   \n",
    "                  }\n",
    "                 ]\n",
    "\n",
    "# Создаем объект класса RandomizedSearchCV для модели случайного леса\n",
    "random_search_rf = RandomizedSearchCV(estimator=ensemble.RandomForestClassifier(random_state=42),\n",
    "                              param_distributions=param_grid_rf,\n",
    "                              cv=5,\n",
    "                              n_iter=20,\n",
    "                              n_jobs=-1,\n",
    "                              scoring='f1'\n",
    "                              )\n",
    "\n",
    "# Производим подбор гиперпараметров\n",
    "%time random_search_rf.fit(X_train, y_train)"
   ]
  },
  {
   "cell_type": "code",
   "execution_count": 108,
   "metadata": {},
   "outputs": [
    {
     "name": "stdout",
     "output_type": "stream",
     "text": [
      "Лучшая комбинация гиперпараметров: {'n_estimators': 300, 'min_samples_leaf': 1, 'max_depth': 65, 'criterion': 'entropy'}\n",
      "Значение метрики f1-score на тестовой выборке для модели случайного леса: 0.82\n"
     ]
    }
   ],
   "source": [
    "# Выведем лучшую комбинацию гиперпараметров и значение метрики на тестовой выборке\n",
    "print(f'Лучшая комбинация гиперпараметров: {random_search_rf.best_params_}')\n",
    "print(f'Значение метрики f1-score на тестовой выборке для модели случайного леса: {round(random_search_rf.score(X_test, y_test),2)}')"
   ]
  },
  {
   "attachments": {},
   "cell_type": "markdown",
   "metadata": {},
   "source": [
    "### Результат для способа подбора параметров RandomizedSearchCV\n",
    "Для модели логистической регрессии значение метрики f1-score - 0.75, время подбора параметров составило: 6 минут 29 секунд. Для модели случайного леса значение метрики f1-score - 0,82, время подбора параметров составило: 35.5 секунд. Метрика для обеих моделей не изменилась."
   ]
  },
  {
   "attachments": {},
   "cell_type": "markdown",
   "metadata": {},
   "source": [
    "# <center> Hyperopt </center>"
   ]
  },
  {
   "attachments": {},
   "cell_type": "markdown",
   "metadata": {},
   "source": [
    "### Логистическая регрессия"
   ]
  },
  {
   "cell_type": "code",
   "execution_count": 129,
   "metadata": {},
   "outputs": [],
   "source": [
    "# Задаем пространство гиперпараметров для модели логистической регрессии\n",
    "space = {'penalty':hp.choice('penalty', ['l1', 'l2']),\n",
    "         'solver':hp.choice('solver', ['liblinear', 'saga']),\n",
    "         'C':hp.quniform('C', 0.01, 1, 0.01)\n",
    "         }\n",
    "                 \n",
    "random_state = 42 # фиксируем случайное число\n",
    "\n",
    "# Задаем функцию для минимизации\n",
    "def hyperopt_lr(params, cv=5, X=X_train, y=y_train, random_state=random_state):\n",
    "    # функция получает комбинацию гиперпараметров в \"params\"\n",
    "    params = {'penalty':params['penalty'],\n",
    "               'solver':params['solver'],\n",
    "               'C':params['C']\n",
    "               }\n",
    "    model = linear_model.LogisticRegression(**params, random_state=random_state, max_iter=5000)\n",
    "        \n",
    "    # используем кросс-валидацию\n",
    "    score = cross_val_score(model, X, y, cv=cv, scoring='f1', n_jobs=-1).mean()\n",
    "    return -score # так как используем метрику f1-score - ставим знак минус"
   ]
  },
  {
   "cell_type": "code",
   "execution_count": 130,
   "metadata": {},
   "outputs": [
    {
     "name": "stdout",
     "output_type": "stream",
     "text": [
      "CPU times: user 2 µs, sys: 0 ns, total: 2 µs\n",
      "Wall time: 3.58 µs\n",
      "100%|██████████| 20/20 [14:41<00:00, 44.09s/trial, best loss: -0.7936242351503495]\n",
      "Наилучшие значения гиперпараметров {'C': 0.47000000000000003, 'penalty': 0, 'solver': 1}\n"
     ]
    }
   ],
   "source": [
    "# Начинаем подбор гиперпараметров\n",
    "%time \n",
    "\n",
    "trials = Trials() # используется для логирования результатов\n",
    "\n",
    "best_lr=fmin(hyperopt_lr, # наша функция \n",
    "             space=space, # пространство гиперпараметров\n",
    "             algo=tpe.suggest, # алгоритм оптимизации, установлен по умолчанию, задавать необязательно\n",
    "             max_evals=20, # максимальное количество итераций\n",
    "             trials=trials, # логирование результатов\n",
    "             rstate=np.random.default_rng(random_state) # фиксируем для повторяемости результата\n",
    "             )\n",
    "print(\"Наилучшие значения гиперпараметров {}\".format(best_lr))"
   ]
  },
  {
   "cell_type": "code",
   "execution_count": 131,
   "metadata": {},
   "outputs": [
    {
     "name": "stdout",
     "output_type": "stream",
     "text": [
      "f1_score на тестовом наборе для модели логистической регрессии: 0.75\n"
     ]
    }
   ],
   "source": [
    "# Задаем списки с гиперпараметрами, так как категориальные значения сохраняются в виде индексов\n",
    "penalty = ['l1', 'l2']\n",
    "solver = ['liblinear', 'saga']\n",
    "\n",
    "# Рассчитаем точность для тестовой выборки\n",
    "model_hyp_lr = linear_model.LogisticRegression(max_iter=5000,\n",
    "                                               random_state=random_state, \n",
    "                                               penalty=penalty[best_lr['penalty']],\n",
    "                                               solver=solver[best_lr['solver']],\n",
    "                                               C=best_lr['C']\n",
    "                                               )\n",
    "model_hyp_lr.fit(X_train, y_train)\n",
    "y_test_pred = model_hyp_lr.predict(X_test)\n",
    "print('f1_score на тестовом наборе для модели логистической регрессии: {:.2f}'.format(metrics.f1_score(y_test, y_test_pred)))"
   ]
  },
  {
   "attachments": {},
   "cell_type": "markdown",
   "metadata": {},
   "source": [
    "### Случайный лес"
   ]
  },
  {
   "cell_type": "code",
   "execution_count": 99,
   "metadata": {},
   "outputs": [],
   "source": [
    "# Задаем пространство гиперпараметров для модели случайного леса\n",
    "space_rf = {'criterion':hp.choice('criterion', ['gini', 'entropy']),\n",
    "            'n_estimators':hp.quniform('n_estimators', 100, 500, 5),\n",
    "            'min_samples_leaf':hp.quniform('min_samples_leaf', 1, 5, 1),\n",
    "            'max_depth':hp.quniform('max_depth', 25, 100, 5)  \n",
    "            }\n",
    "               \n",
    "    \n",
    "random_state = 42 # фиксируем случайное число\n",
    "\n",
    "# Задаем функцию для минимизации\n",
    "def hyperopt_rf(params, cv=5, X=X_train, y=y_train, random_state=random_state):\n",
    "    # функция получает комбинацию гиперпараметров в \"params\"\n",
    "    params = {'criterion':params['criterion'],\n",
    "               'n_estimators':int(params['n_estimators']),\n",
    "               'min_samples_leaf':int(params['min_samples_leaf']),\n",
    "               'max_depth':int(params['max_depth'])\n",
    "               }\n",
    "    model = ensemble.RandomForestClassifier(**params, random_state=random_state)\n",
    "        \n",
    "    # используем кросс-валидацию\n",
    "    score = cross_val_score(model, X, y, cv=cv, scoring='f1', n_jobs=-1).mean()\n",
    "    return -score # так как используем метрику f1-score - ставим знак минус"
   ]
  },
  {
   "cell_type": "code",
   "execution_count": 124,
   "metadata": {},
   "outputs": [
    {
     "name": "stdout",
     "output_type": "stream",
     "text": [
      "CPU times: user 2 µs, sys: 0 ns, total: 2 µs\n",
      "Wall time: 3.34 µs\n",
      "100%|██████████| 20/20 [01:06<00:00,  3.32s/trial, best loss: -0.8262375976440357]\n",
      "Наилучшие значения гиперпараметров {'criterion': 1, 'max_depth': 60.0, 'min_samples_leaf': 2.0, 'n_estimators': 400.0}\n"
     ]
    }
   ],
   "source": [
    "# Начинаем подбор гиперпараметров\n",
    "%time \n",
    "\n",
    "trials = Trials() # используется для логирования результатов\n",
    "\n",
    "best_rf=fmin(hyperopt_rf, # наша функция \n",
    "             space=space_rf, # пространство гиперпараметров\n",
    "             algo=tpe.suggest, # алгоритм оптимизации, установлен по умолчанию, задавать необязательно\n",
    "             max_evals=20, # максимальное количество итераций\n",
    "             trials=trials, # логирование результатов\n",
    "             rstate=np.random.default_rng(random_state)# фиксируем для повторяемости результата\n",
    "             )\n",
    "print(\"Наилучшие значения гиперпараметров {}\".format(best_rf))"
   ]
  },
  {
   "cell_type": "code",
   "execution_count": 125,
   "metadata": {},
   "outputs": [
    {
     "name": "stdout",
     "output_type": "stream",
     "text": [
      "f1_score на тестовом наборе для модели случайного леса: 0.78\n"
     ]
    }
   ],
   "source": [
    "# Задаем списки с гиперпараметрами, так как категориальные значения сохраняются в виде индексов\n",
    "criterion = ['gini', 'entropy']\n",
    "\n",
    "# Рассчитаем точность для тестовой выборки\n",
    "model_hyp_rf = ensemble.RandomForestClassifier(random_state=random_state,\n",
    "                                               criterion=criterion[best_rf['criterion']],\n",
    "                                               n_estimators=int(best_rf['n_estimators']),\n",
    "                                               min_samples_leaf=int(best_rf['min_samples_leaf']),\n",
    "                                               max_depth=int(best_rf['max_depth'])                                               \n",
    "                                               )\n",
    "model_hyp_rf.fit(X_train, y_train)\n",
    "y_test_pred_rf = model_hyp_rf.predict(X_test)\n",
    "print('f1_score на тестовом наборе для модели случайного леса: {:.2f}'.format(metrics.f1_score(y_test, y_test_pred_rf)))"
   ]
  },
  {
   "attachments": {},
   "cell_type": "markdown",
   "metadata": {},
   "source": [
    "### Результат для способа подбора параметров Hyperopt\n",
    "Для модели логистической регрессии значение метрики f1-score - 0.75, время подбора параметров составило: 14 минут 41.8 секунды. Для модели случайного леса значение метрики f1-score - 0.78, время подбора параметров составило: 1 минута 6.3 секунды. Метрика для логистической модели осталась неизменной, а для модели случайного леса снизилась."
   ]
  },
  {
   "attachments": {},
   "cell_type": "markdown",
   "metadata": {},
   "source": [
    "# <center> Optuna </center>"
   ]
  },
  {
   "attachments": {},
   "cell_type": "markdown",
   "metadata": {},
   "source": [
    "### Логистическая регрессия"
   ]
  },
  {
   "cell_type": "code",
   "execution_count": 126,
   "metadata": {},
   "outputs": [],
   "source": [
    "# Задаем функцию оптимизации\n",
    "def optuna_lr(trial):\n",
    "    # задаем пространства поиска гиперпараметров\n",
    "    penalty = trial.suggest_categorical('penalty', ['l1', 'l2'])\n",
    "    solver = trial.suggest_categorical('solver', ['liblinear', 'saga'])\n",
    "    C = trial.suggest_float(name='C', low=0.01, high=1, step=0.01)\n",
    "    \n",
    "    # создаем модель\n",
    "    model = linear_model.LogisticRegression(penalty=penalty,\n",
    "                                            solver=solver,\n",
    "                                            C=C,\n",
    "                                            random_state=random_state,\n",
    "                                            max_iter=5000\n",
    "                                            )\n",
    "    # обучаем модель\n",
    "    model.fit(X_train, y_train)\n",
    "    \n",
    "    # используем кросс-валидацию\n",
    "    score = cross_val_score(model, X, y, cv=5, scoring='f1', n_jobs=-1).mean()\n",
    "    return score"
   ]
  },
  {
   "cell_type": "code",
   "execution_count": 127,
   "metadata": {},
   "outputs": [
    {
     "name": "stderr",
     "output_type": "stream",
     "text": [
      "[I 2023-06-19 23:06:26,468] A new study created in memory with name: LogisticRegression\n",
      "[I 2023-06-19 23:06:41,735] Trial 0 finished with value: 0.7838901806138469 and parameters: {'penalty': 'l2', 'solver': 'saga', 'C': 0.01}. Best is trial 0 with value: 0.7838901806138469.\n",
      "[I 2023-06-19 23:06:43,385] Trial 1 finished with value: 0.7792650509409993 and parameters: {'penalty': 'l2', 'solver': 'liblinear', 'C': 0.67}. Best is trial 0 with value: 0.7838901806138469.\n",
      "[I 2023-06-19 23:07:36,437] Trial 2 finished with value: 0.7765511501982312 and parameters: {'penalty': 'l2', 'solver': 'saga', 'C': 0.86}. Best is trial 0 with value: 0.7838901806138469.\n",
      "[I 2023-06-19 23:08:05,774] Trial 3 finished with value: 0.7866743041280643 and parameters: {'penalty': 'l2', 'solver': 'saga', 'C': 0.060000000000000005}. Best is trial 3 with value: 0.7866743041280643.\n",
      "[I 2023-06-19 23:11:48,149] Trial 4 finished with value: 0.7812933485213779 and parameters: {'penalty': 'l1', 'solver': 'saga', 'C': 0.53}. Best is trial 3 with value: 0.7866743041280643.\n",
      "[I 2023-06-19 23:11:49,516] Trial 5 finished with value: 0.7787975388785702 and parameters: {'penalty': 'l1', 'solver': 'liblinear', 'C': 0.88}. Best is trial 3 with value: 0.7866743041280643.\n",
      "[I 2023-06-19 23:11:51,494] Trial 6 finished with value: 0.7761110904198304 and parameters: {'penalty': 'l1', 'solver': 'liblinear', 'C': 0.97}. Best is trial 3 with value: 0.7866743041280643.\n",
      "[I 2023-06-19 23:11:52,405] Trial 7 finished with value: 0.7802878706032537 and parameters: {'penalty': 'l1', 'solver': 'liblinear', 'C': 0.74}. Best is trial 3 with value: 0.7866743041280643.\n",
      "[I 2023-06-19 23:11:53,406] Trial 8 finished with value: 0.788693679200333 and parameters: {'penalty': 'l1', 'solver': 'liblinear', 'C': 0.17}. Best is trial 8 with value: 0.788693679200333.\n",
      "[I 2023-06-19 23:11:54,036] Trial 9 finished with value: 0.7844778123434013 and parameters: {'penalty': 'l1', 'solver': 'liblinear', 'C': 0.09999999999999999}. Best is trial 8 with value: 0.788693679200333.\n",
      "[I 2023-06-19 23:11:54,865] Trial 10 finished with value: 0.7865703762915951 and parameters: {'penalty': 'l1', 'solver': 'liblinear', 'C': 0.29000000000000004}. Best is trial 8 with value: 0.788693679200333.\n",
      "[I 2023-06-19 23:12:20,910] Trial 11 finished with value: 0.7812771885237811 and parameters: {'penalty': 'l2', 'solver': 'saga', 'C': 0.28}. Best is trial 8 with value: 0.788693679200333.\n",
      "[I 2023-06-19 23:12:51,412] Trial 12 finished with value: 0.7816577130668403 and parameters: {'penalty': 'l2', 'solver': 'saga', 'C': 0.23}. Best is trial 8 with value: 0.788693679200333.\n",
      "[I 2023-06-19 23:13:24,606] Trial 13 finished with value: 0.7786139955132976 and parameters: {'penalty': 'l2', 'solver': 'saga', 'C': 0.42000000000000004}. Best is trial 8 with value: 0.788693679200333.\n",
      "[I 2023-06-19 23:13:25,125] Trial 14 finished with value: 0.7879182067619939 and parameters: {'penalty': 'l1', 'solver': 'liblinear', 'C': 0.12}. Best is trial 8 with value: 0.788693679200333.\n",
      "[I 2023-06-19 23:13:25,876] Trial 15 finished with value: 0.788693679200333 and parameters: {'penalty': 'l1', 'solver': 'liblinear', 'C': 0.17}. Best is trial 8 with value: 0.788693679200333.\n",
      "[I 2023-06-19 23:13:27,006] Trial 16 finished with value: 0.7849661197053777 and parameters: {'penalty': 'l1', 'solver': 'liblinear', 'C': 0.45}. Best is trial 8 with value: 0.788693679200333.\n",
      "[I 2023-06-19 23:13:27,809] Trial 17 finished with value: 0.787447446736721 and parameters: {'penalty': 'l1', 'solver': 'liblinear', 'C': 0.19}. Best is trial 8 with value: 0.788693679200333.\n",
      "[I 2023-06-19 23:13:28,847] Trial 18 finished with value: 0.7878934092775765 and parameters: {'penalty': 'l1', 'solver': 'liblinear', 'C': 0.33}. Best is trial 8 with value: 0.788693679200333.\n",
      "[I 2023-06-19 23:13:30,187] Trial 19 finished with value: 0.7826417239515158 and parameters: {'penalty': 'l1', 'solver': 'liblinear', 'C': 0.5700000000000001}. Best is trial 8 with value: 0.788693679200333.\n"
     ]
    },
    {
     "name": "stdout",
     "output_type": "stream",
     "text": [
      "Наилучшие значения гиперпараметров {'penalty': 'l1', 'solver': 'liblinear', 'C': 0.17}\n",
      "CPU times: user 3min 29s, sys: 825 ms, total: 3min 30s\n",
      "Wall time: 7min 3s\n"
     ]
    }
   ],
   "source": [
    "%%time\n",
    "# cоздаем объект исследования\n",
    "study_lr = optuna.create_study(study_name=\"LogisticRegression\", direction=\"maximize\")\n",
    "\n",
    "# ищем лучшую комбинацию гиперпараметров n_trials раз\n",
    "study_lr.optimize(optuna_lr, n_trials=20)\n",
    "\n",
    "# выводим результаты на обучающей выборке\n",
    "print(\"Наилучшие значения гиперпараметров {}\".format(study_lr.best_params))"
   ]
  },
  {
   "cell_type": "code",
   "execution_count": 128,
   "metadata": {},
   "outputs": [
    {
     "name": "stdout",
     "output_type": "stream",
     "text": [
      "f1_score на тестовом наборе для модели логистической регрессии: 0.75\n"
     ]
    }
   ],
   "source": [
    "# рассчитаем f1 для тестовой выборки\n",
    "model_lr_opt = linear_model.LogisticRegression(**study_lr.best_params,random_state=random_state, max_iter=2500)\n",
    "model_lr_opt.fit(X_train, y_train)\n",
    "\n",
    "# делаем предсказание и рассчитываем метрику\n",
    "y_test_pred_lr_opt = model_lr_opt.predict(X_test)\n",
    "print('f1_score на тестовом наборе для модели логистической регрессии: {:.2f}'.format(metrics.f1_score(y_test, y_test_pred_lr_opt)))"
   ]
  },
  {
   "attachments": {},
   "cell_type": "markdown",
   "metadata": {},
   "source": [
    "Случайный лес"
   ]
  },
  {
   "cell_type": "code",
   "execution_count": 104,
   "metadata": {},
   "outputs": [],
   "source": [
    "# Задаем функцию оптимизации для моедли случайного леса\n",
    "def optuna_rf(trial):\n",
    "  # задаем пространства поиска гиперпараметров\n",
    "  n_estimators = trial.suggest_int('n_estimators', 100, 500, 5)\n",
    "  criterion = trial.suggest_categorical('criterion', ['gini', 'entropy'])\n",
    "  min_samples_leaf = trial.suggest_int('min_samples_leaf', 1, 5, 1)\n",
    "  max_depth = trial.suggest_int('max_depth', 25, 100, 5)  \n",
    "\n",
    "  # создаем модель\n",
    "  model = ensemble.RandomForestClassifier(n_estimators=n_estimators,\n",
    "                                          criterion=criterion,\n",
    "                                          min_samples_leaf=min_samples_leaf,\n",
    "                                          max_depth=max_depth,\n",
    "                                          random_state=random_state)\n",
    "  # обучаем модель с кросс-валидацией \n",
    "  score = cross_val_score(model, X, y, cv=5, scoring='f1', n_jobs=-1).mean()\n",
    "\n",
    "  return score"
   ]
  },
  {
   "cell_type": "code",
   "execution_count": 105,
   "metadata": {},
   "outputs": [
    {
     "name": "stderr",
     "output_type": "stream",
     "text": [
      "[I 2023-06-19 21:50:36,182] A new study created in memory with name: RandomForestClassifier\n",
      "[I 2023-06-19 21:50:38,909] Trial 0 finished with value: 0.8124887079994556 and parameters: {'n_estimators': 205, 'criterion': 'gini', 'min_samples_leaf': 1, 'max_depth': 80}. Best is trial 0 with value: 0.8124887079994556.\n",
      "[I 2023-06-19 21:50:42,529] Trial 1 finished with value: 0.8154282739186783 and parameters: {'n_estimators': 295, 'criterion': 'gini', 'min_samples_leaf': 1, 'max_depth': 30}. Best is trial 1 with value: 0.8154282739186783.\n",
      "[I 2023-06-19 21:50:47,716] Trial 2 finished with value: 0.8171690797258151 and parameters: {'n_estimators': 405, 'criterion': 'entropy', 'min_samples_leaf': 2, 'max_depth': 85}. Best is trial 2 with value: 0.8171690797258151.\n",
      "[I 2023-06-19 21:50:51,673] Trial 3 finished with value: 0.8120016454567596 and parameters: {'n_estimators': 375, 'criterion': 'gini', 'min_samples_leaf': 4, 'max_depth': 40}. Best is trial 2 with value: 0.8171690797258151.\n",
      "[I 2023-06-19 21:50:56,927] Trial 4 finished with value: 0.8129882041634537 and parameters: {'n_estimators': 395, 'criterion': 'entropy', 'min_samples_leaf': 1, 'max_depth': 25}. Best is trial 2 with value: 0.8171690797258151.\n",
      "[I 2023-06-19 21:50:58,586] Trial 5 finished with value: 0.8056315408471171 and parameters: {'n_estimators': 145, 'criterion': 'gini', 'min_samples_leaf': 5, 'max_depth': 50}. Best is trial 2 with value: 0.8171690797258151.\n",
      "[I 2023-06-19 21:51:00,060] Trial 6 finished with value: 0.8075711274815053 and parameters: {'n_estimators': 125, 'criterion': 'gini', 'min_samples_leaf': 4, 'max_depth': 70}. Best is trial 2 with value: 0.8171690797258151.\n",
      "[I 2023-06-19 21:51:03,521] Trial 7 finished with value: 0.8135704123524634 and parameters: {'n_estimators': 290, 'criterion': 'entropy', 'min_samples_leaf': 3, 'max_depth': 45}. Best is trial 2 with value: 0.8171690797258151.\n",
      "[I 2023-06-19 21:51:05,401] Trial 8 finished with value: 0.8122075999690402 and parameters: {'n_estimators': 150, 'criterion': 'entropy', 'min_samples_leaf': 4, 'max_depth': 100}. Best is trial 2 with value: 0.8171690797258151.\n",
      "[I 2023-06-19 21:51:07,741] Trial 9 finished with value: 0.8159804024203867 and parameters: {'n_estimators': 185, 'criterion': 'gini', 'min_samples_leaf': 2, 'max_depth': 30}. Best is trial 2 with value: 0.8171690797258151.\n",
      "[I 2023-06-19 21:51:13,855] Trial 10 finished with value: 0.8182969476160945 and parameters: {'n_estimators': 475, 'criterion': 'entropy', 'min_samples_leaf': 2, 'max_depth': 95}. Best is trial 10 with value: 0.8182969476160945.\n",
      "[I 2023-06-19 21:51:19,895] Trial 11 finished with value: 0.818792079529619 and parameters: {'n_estimators': 495, 'criterion': 'entropy', 'min_samples_leaf': 2, 'max_depth': 100}. Best is trial 11 with value: 0.818792079529619.\n",
      "[I 2023-06-19 21:51:26,181] Trial 12 finished with value: 0.818792079529619 and parameters: {'n_estimators': 495, 'criterion': 'entropy', 'min_samples_leaf': 2, 'max_depth': 100}. Best is trial 11 with value: 0.818792079529619.\n",
      "[I 2023-06-19 21:51:31,963] Trial 13 finished with value: 0.8136354910673577 and parameters: {'n_estimators': 495, 'criterion': 'entropy', 'min_samples_leaf': 3, 'max_depth': 90}. Best is trial 11 with value: 0.818792079529619.\n",
      "[I 2023-06-19 21:51:37,410] Trial 14 finished with value: 0.8163839321764371 and parameters: {'n_estimators': 450, 'criterion': 'entropy', 'min_samples_leaf': 2, 'max_depth': 70}. Best is trial 11 with value: 0.818792079529619.\n",
      "[I 2023-06-19 21:51:41,517] Trial 15 finished with value: 0.8135970717218857 and parameters: {'n_estimators': 335, 'criterion': 'entropy', 'min_samples_leaf': 3, 'max_depth': 100}. Best is trial 11 with value: 0.818792079529619.\n",
      "[I 2023-06-19 21:51:47,074] Trial 16 finished with value: 0.8161175502275935 and parameters: {'n_estimators': 440, 'criterion': 'entropy', 'min_samples_leaf': 2, 'max_depth': 80}. Best is trial 11 with value: 0.818792079529619.\n",
      "[I 2023-06-19 21:51:53,695] Trial 17 finished with value: 0.8147169990287859 and parameters: {'n_estimators': 495, 'criterion': 'entropy', 'min_samples_leaf': 1, 'max_depth': 60}. Best is trial 11 with value: 0.818792079529619.\n",
      "[I 2023-06-19 21:51:56,823] Trial 18 finished with value: 0.8139254096604208 and parameters: {'n_estimators': 250, 'criterion': 'entropy', 'min_samples_leaf': 3, 'max_depth': 90}. Best is trial 11 with value: 0.818792079529619.\n",
      "[I 2023-06-19 21:52:02,177] Trial 19 finished with value: 0.8157400976886228 and parameters: {'n_estimators': 435, 'criterion': 'entropy', 'min_samples_leaf': 2, 'max_depth': 70}. Best is trial 11 with value: 0.818792079529619.\n"
     ]
    },
    {
     "name": "stdout",
     "output_type": "stream",
     "text": [
      "Наилучшие значения гиперпараметров {'n_estimators': 495, 'criterion': 'entropy', 'min_samples_leaf': 2, 'max_depth': 100}\n",
      "CPU times: user 370 ms, sys: 255 ms, total: 625 ms\n",
      "Wall time: 1min 25s\n"
     ]
    }
   ],
   "source": [
    "%%time\n",
    "# cоздаем объект исследования\n",
    "study_rf = optuna.create_study(study_name=\"RandomForestClassifier\", direction=\"maximize\")\n",
    "\n",
    "# ищем лучшую комбинацию гиперпараметров n_trials раз\n",
    "study_rf.optimize(optuna_rf, n_trials=20)\n",
    "\n",
    "# выводим результаты на обучающей выборке\n",
    "print(\"Наилучшие значения гиперпараметров {}\".format(study_rf.best_params))"
   ]
  },
  {
   "cell_type": "code",
   "execution_count": 106,
   "metadata": {},
   "outputs": [
    {
     "name": "stdout",
     "output_type": "stream",
     "text": [
      "f1_score на тестовом наборе для модели случайного леса: 0.82\n"
     ]
    }
   ],
   "source": [
    "# рассчитаем точность для тестовой выборки\n",
    "model = ensemble.RandomForestClassifier(**study_rf.best_params,random_state=random_state, )\n",
    "model.fit(X_train, y_train)\n",
    "\n",
    "# делаем предсказание и рассчитываем метрику\n",
    "y_test_pred_rf_opt = model.predict(X_test)\n",
    "print('f1_score на тестовом наборе для модели случайного леса: {:.2f}'.format(metrics.f1_score(y_test, y_test_pred_rf_opt)))"
   ]
  },
  {
   "attachments": {},
   "cell_type": "markdown",
   "metadata": {},
   "source": [
    "### Результат для способа подбора параметров Optuna\n",
    " Для модели логистической регрессии значение метрики f1-score - 0.75 , время подбора параметров составило: 7 минут 3 секунды. Для модели случайного леса значение метрики f1-score - 0.82 , время подбора параметров составило: 1 минуту 25 секунд."
   ]
  },
  {
   "attachments": {},
   "cell_type": "markdown",
   "metadata": {},
   "source": [
    "### Выводы\n",
    "1. Время работы сильно зависист от скорости обучения модели что в свою очередь зависит от заданных в сетке поиска параметров. К примеру увеличение количества деревьев увеличивает общее время подбора параметров. А для модели логистической регрессии из-за выбранных параметров регуляризации пришлось задать количество итераций на сходимость - 5000, иначе при некоторых сочетаниях параметров модель не сходилась. Это очень сильно увеличило время подбора параметров.\n",
    "2. Во всех попытках подбора кроме одной метрика осталась прежней, можно предположить, что данные хорошо подготовлены поэтому модель с базовыми настройками дает хороший результат. Исключение составляет подбор параметров способом Hyperopt для модели случайного леса, где метрика снизилась относительно базовой модели. Попытки увеличить количество итераций (до 150) не дали результата. Возможно это связано с особенностями алгоритма поиска и заданым пространством параметров.\n",
    "3. Что касается времени работы, то при применении кросс-валидации последние два способа даже проигрывают по времени способу случайного поиска. Видимо это связано с тем, что последние два способа тратят дополнительное время на вычисление следующей оптимальной комбинации. Тогда как случайный поиск использует случайный набор параметров.\n",
    "4. Интересная особенность при задании диапзона параметра С, для модели логистической регрессии, в виде диапазона от 0.01 до 1 с шагом 0.1, в способе Optuna выскакивало предупреждение, что диапазон не делится ровно на шаг и будет заменен на диапазон от 0.01 до 0.91. При этом время подбора параметров составляло для Optuna - 36 с лишним минут, а для Hyperopt - 25 минут. Лучшее значение параметра С в обоих случаях представляло число с большим количеством знаков после запятой. Изменение шага на 0.01 позволило сократить время подбора параметров для Optuna до 7 минут 3 секунд, а для Hyperopt до 14 минут 41 секунды. Однако лучшее значение параметра С для Hyperopt все равно имеет вид 0.47000000000000003. Возможно параметр q, определяющий шаг в hp.quniform(label, low, high, q), плохо работает с дробными значениями.\n",
    "5. В целом рассмотренные способы сильно зависят от заданного пространства поиска параметров. Слишком большое пространство даже с продвинутыми способами оптимизации могут занять много времени. Поэтому  стоит предварительно сократить пространство поиска, исключив объективно проигрышные комбинации."
   ]
  }
 ],
 "metadata": {
  "kernelspec": {
   "display_name": "Python 3",
   "language": "python",
   "name": "python3"
  },
  "language_info": {
   "codemirror_mode": {
    "name": "ipython",
    "version": 3
   },
   "file_extension": ".py",
   "mimetype": "text/x-python",
   "name": "python",
   "nbconvert_exporter": "python",
   "pygments_lexer": "ipython3",
   "version": "3.11.2"
  },
  "orig_nbformat": 4
 },
 "nbformat": 4,
 "nbformat_minor": 2
}
